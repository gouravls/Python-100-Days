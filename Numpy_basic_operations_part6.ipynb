{
 "cells": [
  {
   "cell_type": "code",
   "execution_count": 1,
   "id": "c9d20c94",
   "metadata": {},
   "outputs": [],
   "source": [
    "import numpy as np"
   ]
  },
  {
   "cell_type": "code",
   "execution_count": 3,
   "id": "5d2fa613",
   "metadata": {},
   "outputs": [
    {
     "data": {
      "text/plain": [
       "array([ 0, 10, 20, 30])"
      ]
     },
     "execution_count": 3,
     "metadata": {},
     "output_type": "execute_result"
    }
   ],
   "source": [
    "#Broadcasting example in numpy\n",
    "\n",
    "data1=np.arange(0,40,10)\n",
    "data1"
   ]
  },
  {
   "cell_type": "code",
   "execution_count": 4,
   "id": "4f26a4f0",
   "metadata": {},
   "outputs": [
    {
     "data": {
      "text/plain": [
       "array([[ 0, 10, 20, 30],\n",
       "       [ 0, 10, 20, 30],\n",
       "       [ 0, 10, 20, 30]])"
      ]
     },
     "execution_count": 4,
     "metadata": {},
     "output_type": "execute_result"
    }
   ],
   "source": [
    "#now we want same elements mutiple times that is called broadcasting\n",
    "#here what we will do we will use tile function(you can remember this concepts with washroom tiles where we have same thing one type of tile mutiples times)\n",
    "\n",
    "data2= np.tile(np.arange(0,40,10),(3,1))\n",
    "data2\n",
    "#here (3,1) means same matrix we need three times"
   ]
  },
  {
   "cell_type": "code",
   "execution_count": 5,
   "id": "96264f48",
   "metadata": {},
   "outputs": [
    {
     "data": {
      "text/plain": [
       "array([[ 0, 10, 20, 30,  0, 10, 20, 30],\n",
       "       [ 0, 10, 20, 30,  0, 10, 20, 30],\n",
       "       [ 0, 10, 20, 30,  0, 10, 20, 30]])"
      ]
     },
     "execution_count": 5,
     "metadata": {},
     "output_type": "execute_result"
    }
   ],
   "source": [
    "\n",
    "data3= np.tile(np.arange(0,40,10),(3,2))\n",
    "data3\n",
    "#here (3,2) means same matrix we need three times specially according to rows\n",
    "#and we need columns 2 times"
   ]
  },
  {
   "cell_type": "code",
   "execution_count": 8,
   "id": "1cdb94dd",
   "metadata": {},
   "outputs": [
    {
     "data": {
      "text/plain": [
       "array([[ 0,  0,  0],\n",
       "       [10, 10, 10],\n",
       "       [20, 20, 20],\n",
       "       [30, 30, 30]])"
      ]
     },
     "execution_count": 8,
     "metadata": {},
     "output_type": "execute_result"
    }
   ],
   "source": [
    "#for exmple if you want to tranpose this\n",
    "\n",
    "a=data2.T\n",
    "a"
   ]
  },
  {
   "cell_type": "code",
   "execution_count": 15,
   "id": "77bc35fa",
   "metadata": {},
   "outputs": [
    {
     "name": "stdout",
     "output_type": "stream",
     "text": [
      "[1 2 3 4 5]\n",
      "[201 202 203 204 205]\n"
     ]
    }
   ],
   "source": [
    "#same basic operations on numpy array\n",
    "\n",
    "data4=np.array([1,2,3,4,5])\n",
    "data4\n",
    "\n",
    "#add 200 value to each element\n",
    "print(data4)\n",
    "#here 200 value is a scalar value, sclar means this value will add in each element\n",
    "data5=data4+200\n",
    "print(data5)"
   ]
  },
  {
   "cell_type": "code",
   "execution_count": 12,
   "id": "c6d05a2d",
   "metadata": {},
   "outputs": [
    {
     "data": {
      "text/plain": [
       "numpy.ndarray"
      ]
     },
     "execution_count": 12,
     "metadata": {},
     "output_type": "execute_result"
    }
   ],
   "source": [
    "type(data4)"
   ]
  },
  {
   "cell_type": "code",
   "execution_count": 17,
   "id": "bc708605",
   "metadata": {},
   "outputs": [
    {
     "data": {
      "text/plain": [
       "array([202, 204, 206, 208, 210])"
      ]
     },
     "execution_count": 17,
     "metadata": {},
     "output_type": "execute_result"
    }
   ],
   "source": [
    "#let try to add two array\n",
    "data4=np.array([1,2,3,4,5])\n",
    "data4\n",
    "\n",
    "#two array also we can add directly\n",
    "data6=data4+data5\n",
    "data6\n"
   ]
  },
  {
   "cell_type": "code",
   "execution_count": 18,
   "id": "b627aa5f",
   "metadata": {},
   "outputs": [
    {
     "data": {
      "text/plain": [
       "array([   4,    1, 1089, 1936, 3025], dtype=int32)"
      ]
     },
     "execution_count": 18,
     "metadata": {},
     "output_type": "execute_result"
    }
   ],
   "source": [
    "#anothe basic opeartor for example we want to caluclate the power of each element\n",
    "#for calculating the power we are using the ***\n",
    "\n",
    "data7=np.array([2,1,33,44,55])\n",
    "\n",
    "data7**2"
   ]
  },
  {
   "cell_type": "code",
   "execution_count": 29,
   "id": "85b9f486",
   "metadata": {},
   "outputs": [
    {
     "ename": "ValueError",
     "evalue": "operands could not be broadcast together with shapes (5,) (2,4) ",
     "output_type": "error",
     "traceback": [
      "\u001b[1;31m---------------------------------------------------------------------------\u001b[0m",
      "\u001b[1;31mValueError\u001b[0m                                Traceback (most recent call last)",
      "\u001b[1;32mC:\\Users\\GOURAV~1\\AppData\\Local\\Temp/ipykernel_3080/2153600758.py\u001b[0m in \u001b[0;36m<module>\u001b[1;34m\u001b[0m\n\u001b[0;32m      8\u001b[0m \u001b[0mtype\u001b[0m\u001b[1;33m(\u001b[0m\u001b[0mdata8\u001b[0m\u001b[1;33m)\u001b[0m\u001b[1;33m\u001b[0m\u001b[1;33m\u001b[0m\u001b[0m\n\u001b[0;32m      9\u001b[0m \u001b[1;33m\u001b[0m\u001b[0m\n\u001b[1;32m---> 10\u001b[1;33m \u001b[0mdata8\u001b[0m\u001b[1;33m+\u001b[0m\u001b[0mdata9\u001b[0m\u001b[1;33m\u001b[0m\u001b[1;33m\u001b[0m\u001b[0m\n\u001b[0m",
      "\u001b[1;31mValueError\u001b[0m: operands could not be broadcast together with shapes (5,) (2,4) "
     ]
    }
   ],
   "source": [
    "#what happend if one arry is 1d and another array is 2d then how addtion will perform\n",
    "\n",
    "data8=np.array([1,2,3,4,5])\n",
    "data9=np.array([[88,99,200,400],[55, 66,77,99]])\n",
    "\n",
    "data9\n",
    "type(data9)\n",
    "type(data8)\n",
    "\n",
    "data8+data9\n",
    "#Here this will throw an error\n",
    "#if you check that error broadcast error\n",
    "# To handle or add this we need to learn the broadcast concepts\n"
   ]
  },
  {
   "cell_type": "code",
   "execution_count": 34,
   "id": "f8b64845",
   "metadata": {},
   "outputs": [
    {
     "data": {
      "text/plain": [
       "array([-1, -1, -1,  0])"
      ]
     },
     "execution_count": 34,
     "metadata": {},
     "output_type": "execute_result"
    }
   ],
   "source": [
    "#basic subtraction\n",
    "#this subtraction we can perform only on the array, if you peform on the list this will throw an error\n",
    "data10=[1,2,2,3]\n",
    "data11=[2,3,3,3]\n",
    "\n",
    "data10=np.array(data10)\n",
    "data10\n",
    "\n",
    "data11=np.array(data11)\n",
    "data11\n",
    "\n",
    "data10-data11"
   ]
  },
  {
   "cell_type": "code",
   "execution_count": 35,
   "id": "8ce73ff2",
   "metadata": {},
   "outputs": [
    {
     "ename": "TypeError",
     "evalue": "unsupported operand type(s) for -: 'list' and 'list'",
     "output_type": "error",
     "traceback": [
      "\u001b[1;31m---------------------------------------------------------------------------\u001b[0m",
      "\u001b[1;31mTypeError\u001b[0m                                 Traceback (most recent call last)",
      "\u001b[1;32mC:\\Users\\GOURAV~1\\AppData\\Local\\Temp/ipykernel_3080/2298529771.py\u001b[0m in \u001b[0;36m<module>\u001b[1;34m\u001b[0m\n\u001b[0;32m      4\u001b[0m \u001b[0mdata13\u001b[0m\u001b[1;33m=\u001b[0m\u001b[1;33m[\u001b[0m\u001b[1;36m2\u001b[0m\u001b[1;33m,\u001b[0m\u001b[1;36m3\u001b[0m\u001b[1;33m,\u001b[0m\u001b[1;36m3\u001b[0m\u001b[1;33m,\u001b[0m\u001b[1;36m3\u001b[0m\u001b[1;33m]\u001b[0m\u001b[1;33m\u001b[0m\u001b[1;33m\u001b[0m\u001b[0m\n\u001b[0;32m      5\u001b[0m \u001b[1;33m\u001b[0m\u001b[0m\n\u001b[1;32m----> 6\u001b[1;33m \u001b[0mdata12\u001b[0m\u001b[1;33m-\u001b[0m\u001b[0mdata13\u001b[0m\u001b[1;33m\u001b[0m\u001b[1;33m\u001b[0m\u001b[0m\n\u001b[0m",
      "\u001b[1;31mTypeError\u001b[0m: unsupported operand type(s) for -: 'list' and 'list'"
     ]
    }
   ],
   "source": [
    "#list subtraction and it will throw an error\n",
    "#type error unsupported operand type(s) for -: 'list' and 'list'\n",
    "\n",
    "data12=[1,2,2,3]\n",
    "data13=[2,3,3,3]\n",
    "\n",
    "data12-data13"
   ]
  },
  {
   "cell_type": "code",
   "execution_count": 37,
   "id": "f1f0a936",
   "metadata": {},
   "outputs": [
    {
     "data": {
      "text/plain": [
       "array([2., 2., 2., 2., 2.])"
      ]
     },
     "execution_count": 37,
     "metadata": {},
     "output_type": "execute_result"
    }
   ],
   "source": [
    "#let create an array with the help of ones and zero function then perform basic calculation\n",
    "\n",
    "data14=np.ones(5)\n",
    "data14\n",
    "\n",
    "data14+1"
   ]
  },
  {
   "cell_type": "code",
   "execution_count": 39,
   "id": "88539331",
   "metadata": {},
   "outputs": [
    {
     "data": {
      "text/plain": [
       "array([ 0., -1., -2., -3., -4.])"
      ]
     },
     "execution_count": 39,
     "metadata": {},
     "output_type": "execute_result"
    }
   ],
   "source": [
    "#let create an array with the help of ones and zero function then perform basic calculation\n",
    "\n",
    "data15=np.ones(5)\n",
    "data15\n",
    "data16=[1,2,3,4,5]\n",
    "data15-data16"
   ]
  },
  {
   "cell_type": "code",
   "execution_count": 41,
   "id": "bbcafd1f",
   "metadata": {},
   "outputs": [
    {
     "data": {
      "text/plain": [
       "array([0., 0., 0., 0., 0., 0.])"
      ]
     },
     "execution_count": 41,
     "metadata": {},
     "output_type": "execute_result"
    }
   ],
   "source": [
    "data17=np.zeros(6)\n",
    "data17\n",
    "\n",
    "data19=[0,0,0,0,0,0]\n",
    "\n",
    "data17-data19"
   ]
  },
  {
   "cell_type": "code",
   "execution_count": 44,
   "id": "2950a1e0",
   "metadata": {},
   "outputs": [
    {
     "data": {
      "text/plain": [
       "array([ 2.,  3.,  4.,  4., 45., 56., 67.])"
      ]
     },
     "execution_count": 44,
     "metadata": {},
     "output_type": "execute_result"
    }
   ],
   "source": [
    "#can we do basic calculation on one array and another list\n",
    "#yes we can do that\n",
    "#output will becaome array\n",
    "\n",
    "data20=[1,2,3,3,44,55,66]\n",
    "data21=np.ones(7)\n",
    "data21\n",
    "\n",
    "data21+data20"
   ]
  },
  {
   "cell_type": "code",
   "execution_count": 45,
   "id": "a4485ab4",
   "metadata": {},
   "outputs": [
    {
     "data": {
      "text/plain": [
       "array([6., 6., 6., 6., 6., 6., 6.])"
      ]
     },
     "execution_count": 45,
     "metadata": {},
     "output_type": "execute_result"
    }
   ],
   "source": [
    "#mutiply between two array\n",
    "\n",
    "data22=np.ones(7)\n",
    "data23=np.ones(7)+5\n",
    "\n",
    "data22*data23"
   ]
  },
  {
   "cell_type": "code",
   "execution_count": 48,
   "id": "52fffc1d",
   "metadata": {},
   "outputs": [
    {
     "data": {
      "text/plain": [
       "array([[44,  0,  0,  0],\n",
       "       [ 0, 46,  0,  0],\n",
       "       [ 0,  0, 48,  0],\n",
       "       [ 0,  0,  0, 50]])"
      ]
     },
     "execution_count": 48,
     "metadata": {},
     "output_type": "execute_result"
    }
   ],
   "source": [
    "#let create a matrix with help of diag function\n",
    "#now do the mutiplication\n",
    "\n",
    "data24=np.diag([22,23,24,25])\n",
    "data24\n",
    "\n",
    "data25=np.diag([2,2,2,2])\n",
    "\n",
    "data24*data25"
   ]
  },
  {
   "cell_type": "code",
   "execution_count": 49,
   "id": "33adfc62",
   "metadata": {},
   "outputs": [
    {
     "data": {
      "text/plain": [
       "array([False,  True, False, False])"
      ]
     },
     "execution_count": 49,
     "metadata": {},
     "output_type": "execute_result"
    }
   ],
   "source": [
    "#let do comparsion between two array\n",
    "#for comparsion we are using == sign\n",
    "#if values are matching then we will True otherwise false\n",
    "\n",
    "data26=np.array([1,2,3,45])\n",
    "data27=np.array([2,2,2,2])\n",
    "\n",
    "data26==data27"
   ]
  },
  {
   "cell_type": "code",
   "execution_count": 50,
   "id": "dedf22f4",
   "metadata": {},
   "outputs": [
    {
     "data": {
      "text/plain": [
       "array([False, False,  True,  True])"
      ]
     },
     "execution_count": 50,
     "metadata": {},
     "output_type": "execute_result"
    }
   ],
   "source": [
    "#less than and greater than\n",
    "\n",
    "data26> data27"
   ]
  },
  {
   "cell_type": "code",
   "execution_count": 53,
   "id": "b34f627f",
   "metadata": {},
   "outputs": [
    {
     "data": {
      "text/plain": [
       "False"
      ]
     },
     "execution_count": 53,
     "metadata": {},
     "output_type": "execute_result"
    }
   ],
   "source": [
    "#instaed of == sign we can use the arrayequal function\n",
    "\n",
    "np.array_equal(data26,data27)"
   ]
  },
  {
   "cell_type": "code",
   "execution_count": null,
   "id": "4340b437",
   "metadata": {},
   "outputs": [],
   "source": []
  }
 ],
 "metadata": {
  "kernelspec": {
   "display_name": "Python 3 (ipykernel)",
   "language": "python",
   "name": "python3"
  },
  "language_info": {
   "codemirror_mode": {
    "name": "ipython",
    "version": 3
   },
   "file_extension": ".py",
   "mimetype": "text/x-python",
   "name": "python",
   "nbconvert_exporter": "python",
   "pygments_lexer": "ipython3",
   "version": "3.9.7"
  }
 },
 "nbformat": 4,
 "nbformat_minor": 5
}
