{
 "cells": [
  {
   "cell_type": "markdown",
   "id": "31c17607",
   "metadata": {},
   "source": [
    "# Numpy"
   ]
  },
  {
   "cell_type": "markdown",
   "id": "69cb7a13",
   "metadata": {},
   "source": [
    "Why Use NumPy Instead of Lists, Tuples, Sets, or Dicts?\n",
    "\n",
    "1:-Performance: NumPy arrays are significantly faster than Python lists due to their fixed datatype \n",
    "                and optimized C backend(NumPy's core operations are implemented in C,).\n",
    "            \n",
    "2:-Memory Efficiency: NumPy uses contiguous memory allocation, which makes it more space-efficient than lists.   \n",
    "3:-Vectorized Operations: Unlike lists, NumPy allows operations to be applied directly to the entire array, \n",
    "        avoiding Python loops.\n",
    "        \n",
    "4:-Advanced Mathematical Functions: NumPy supports linear algebra, statistics, and more, which are not available in built-in       data structures."
   ]
  },
  {
   "cell_type": "markdown",
   "id": "ff2deba4",
   "metadata": {},
   "source": [
    "You can apply loops in NumPy, but it's generally not recommended because loops in Python are slow. \n",
    "\n",
    "Instead, NumPy provides vectorized operations, which are much faster since they use the optimized C backend.\n",
    "\n",
    "NumPy vectorized operations is ~40x faster than python loop"
   ]
  },
  {
   "cell_type": "markdown",
   "id": "ec5729ce",
   "metadata": {},
   "source": [
    "# NumPy is best for machine learning, scientific computing."
   ]
  },
  {
   "cell_type": "code",
   "execution_count": 5,
   "id": "c4f80fd1",
   "metadata": {},
   "outputs": [
    {
     "data": {
      "text/plain": [
       "array([  1,   2,   3,   3,   3,   3, 444, 555,  66])"
      ]
     },
     "execution_count": 5,
     "metadata": {},
     "output_type": "execute_result"
    }
   ],
   "source": [
    "import numpy as np\n",
    "\n",
    "list1=[1,2,3,3,3,3,444,555,66]\n",
    "list1\n",
    "#here we have a list and we have converted into array, so we need to use numpy libarary for this\n",
    "list1_array=np.array(list1)\n",
    "list1_array"
   ]
  },
  {
   "cell_type": "code",
   "execution_count": 8,
   "id": "3d62a0c5",
   "metadata": {},
   "outputs": [
    {
     "data": {
      "text/plain": [
       "array([110. , 115.5, 117.7, 107.8, 108.9, 112.2, 113.3, 118.8, 119.9,\n",
       "       121. , 123.2, 125.4])"
      ]
     },
     "execution_count": 8,
     "metadata": {},
     "output_type": "execute_result"
    }
   ],
   "source": [
    "#A retail company wants to forecast future demand based on past sales data.\n",
    "#just assume this is 12 months data Jan to Dec\n",
    "\n",
    "import numpy as np\n",
    "\n",
    "sales_data=np.array([100,105,107,98,99,102,103,108,109,110,112,114])\n",
    "sales_data\n",
    "\n",
    "future_demand=sales_data*1.1 #here we are assuming 10 percent of grth\n",
    "future_demand"
   ]
  },
  {
   "cell_type": "code",
   "execution_count": 13,
   "id": "b81375f3",
   "metadata": {},
   "outputs": [
    {
     "data": {
      "text/plain": [
       "array([1.2       , 2.22222222, 1.        , 0.875     , 0.93814433])"
      ]
     },
     "execution_count": 13,
     "metadata": {},
     "output_type": "execute_result"
    }
   ],
   "source": [
    "#A factory produces 10,000 items daily, and they need to calculate the defect percentage.\n",
    "\n",
    "import numpy as np\n",
    "total_items= [10000,9000,8000,4000,9700]\n",
    "total_items=np.array(total_items)\n",
    "total_items\n",
    "\n",
    "defect_products=[120,200,80,35,91]\n",
    "defect_products=np.array(defect_products)\n",
    "defect_products\n",
    "\n",
    "defect_percentage=(defect_products/total_items)*100\n",
    "defect_percentage"
   ]
  },
  {
   "cell_type": "code",
   "execution_count": 25,
   "id": "5e16a022",
   "metadata": {},
   "outputs": [
    {
     "name": "stdout",
     "output_type": "stream",
     "text": [
      "[[0.5254902  0.89019608 0.58823529 ... 0.85882353 0.10980392 0.7372549 ]\n",
      " [0.7372549  0.99215686 0.90980392 ... 0.18431373 0.95686275 0.8627451 ]\n",
      " [0.64313725 0.99607843 0.37647059 ... 0.77254902 0.72156863 0.22745098]\n",
      " ...\n",
      " [0.90588235 0.36470588 0.44313725 ... 0.52156863 0.28627451 0.44705882]\n",
      " [0.4        0.78039216 0.29803922 ... 0.80784314 0.7254902  0.84705882]\n",
      " [0.7254902  0.89803922 0.24705882 ... 0.85882353 0.70588235 0.70980392]]\n"
     ]
    }
   ],
   "source": [
    "#A hospital needs to process MRI scans stored as pixel intensity arrays.\n",
    "\n",
    "import numpy as np\n",
    "\n",
    "image=np.random.randint(0,256)\n",
    "image\n",
    "\n",
    "#here numpy is libraray\n",
    "# random is module\n",
    "#randint is a function\n",
    "\n",
    "#currently image is giving random number between 0 to 256\n",
    "\n",
    "#for example if we want to create a 3 rows and 3 columns then we need to provide like this\n",
    "image1=np.random.randint(0,256,(3,3))\n",
    "image1\n",
    "\n",
    "#for example if we want to create a 4 rows and 4 columns then we need to provide like this\n",
    "image1=np.random.randint(0,256,(4,4))\n",
    "image1\n",
    "\n",
    "#for example if we want to create a 5 rows and 6 columns then we need to provide like this\n",
    "image2=np.random.randint(0,256,(5,6))\n",
    "image2\n",
    "\n",
    "\n",
    "image_final=np.random.randint(0,256,(512,512)) #for grey image\n",
    "image_final = image_final / 255 \n",
    "image_final\n",
    "print(image_final)\n",
    "\n",
    "\n"
   ]
  },
  {
   "cell_type": "code",
   "execution_count": 28,
   "id": "763c8853",
   "metadata": {},
   "outputs": [
    {
     "data": {
      "text/plain": [
       "4.14"
      ]
     },
     "execution_count": 28,
     "metadata": {},
     "output_type": "execute_result"
    }
   ],
   "source": [
    "#A solar panel company needs to analyze sunlight intensity data to optimize energy production.\n",
    "\n",
    "solar_data = np.array([3.4, 4.2, 3.9, 4.5, 4.7])\n",
    "solar_data =np.mean(solar_data)\n",
    "solar_data"
   ]
  },
  {
   "cell_type": "code",
   "execution_count": null,
   "id": "bcaf98f4",
   "metadata": {},
   "outputs": [],
   "source": []
  }
 ],
 "metadata": {
  "kernelspec": {
   "display_name": "Python 3 (ipykernel)",
   "language": "python",
   "name": "python3"
  },
  "language_info": {
   "codemirror_mode": {
    "name": "ipython",
    "version": 3
   },
   "file_extension": ".py",
   "mimetype": "text/x-python",
   "name": "python",
   "nbconvert_exporter": "python",
   "pygments_lexer": "ipython3",
   "version": "3.9.7"
  }
 },
 "nbformat": 4,
 "nbformat_minor": 5
}
