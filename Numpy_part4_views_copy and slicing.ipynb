{
 "cells": [
  {
   "cell_type": "code",
   "execution_count": 1,
   "id": "0466cd57",
   "metadata": {},
   "outputs": [
    {
     "data": {
      "text/plain": [
       "array([ 0,  1,  2,  3,  4,  5,  6,  7,  8,  9, 10, 11, 12, 13, 14, 15, 16,\n",
       "       17, 18, 19])"
      ]
     },
     "execution_count": 1,
     "metadata": {},
     "output_type": "execute_result"
    }
   ],
   "source": [
    "#update via slicing\n",
    "\n",
    "import numpy as np\n",
    "\n",
    "ab1=np.arange(20)\n",
    "ab1"
   ]
  },
  {
   "cell_type": "code",
   "execution_count": 4,
   "id": "d3f8ded8",
   "metadata": {},
   "outputs": [
    {
     "data": {
      "text/plain": [
       "444444"
      ]
     },
     "execution_count": 4,
     "metadata": {},
     "output_type": "execute_result"
    }
   ],
   "source": [
    "ab2= ab1[4:5]=444444\n",
    "ab2"
   ]
  },
  {
   "cell_type": "code",
   "execution_count": 5,
   "id": "706f2510",
   "metadata": {},
   "outputs": [
    {
     "data": {
      "text/plain": [
       "array([    0,     1,     2,     3, 99999,     5,     6,     7,     8,\n",
       "           9,    10,    11,    12,    13,    14,    15,    16,    17,\n",
       "          18,    19])"
      ]
     },
     "execution_count": 5,
     "metadata": {},
     "output_type": "execute_result"
    }
   ],
   "source": [
    "ab1[4:5]=99999\n",
    "ab1"
   ]
  },
  {
   "cell_type": "code",
   "execution_count": 14,
   "id": "0671592a",
   "metadata": {},
   "outputs": [
    {
     "data": {
      "text/plain": [
       "array([5, 6, 7, 8, 9])"
      ]
     },
     "execution_count": 14,
     "metadata": {},
     "output_type": "execute_result"
    }
   ],
   "source": [
    "#you need to reverse half array as reverse order and half remain same\n",
    "\n",
    "ab2=np.arange(10)\n",
    "ab2\n",
    "ab3=ab2[5:]\n",
    "ab3"
   ]
  },
  {
   "cell_type": "code",
   "execution_count": 23,
   "id": "540fed34",
   "metadata": {},
   "outputs": [
    {
     "data": {
      "text/plain": [
       "array([0, 1, 2, 3, 4, 9, 8, 7, 6, 5])"
      ]
     },
     "execution_count": 23,
     "metadata": {},
     "output_type": "execute_result"
    }
   ],
   "source": [
    "ab2=np.arange(10)\n",
    "ab2\n",
    "ab4=ab2[5:][::-1]\n",
    "ab4\n",
    "\n",
    "ab4=np.concatenate((ab2[:5] , ab2[5:][::-1]))\n",
    "ab4"
   ]
  },
  {
   "cell_type": "code",
   "execution_count": 21,
   "id": "5c27b809",
   "metadata": {},
   "outputs": [
    {
     "name": "stdout",
     "output_type": "stream",
     "text": [
      "[0 1 2 3 4 9 8 7 6 5]\n"
     ]
    }
   ],
   "source": [
    "import numpy as np\n",
    "\n",
    "ab2 = np.arange(10)  # Creates an array [0, 1, 2, 3, 4, 5, 6, 7, 8, 9]\n",
    "\n",
    "# Reverse the second half while keeping the first half unchanged\n",
    "ab3 = np.concatenate((ab2[:5], ab2[5:][::-1]))\n",
    "\n",
    "print(ab3)"
   ]
  },
  {
   "cell_type": "code",
   "execution_count": 27,
   "id": "9a46be1d",
   "metadata": {},
   "outputs": [
    {
     "data": {
      "text/plain": [
       "array([0, 1, 2, 3, 4])"
      ]
     },
     "execution_count": 27,
     "metadata": {},
     "output_type": "execute_result"
    }
   ],
   "source": [
    "# Do you know in Numpy also we have view similar to sql, How to check that\n",
    "\n",
    "ab4=np.arange(10)\n",
    "ab4\n",
    "\n",
    "ab5=ab4[:5]\n",
    "ab5"
   ]
  },
  {
   "cell_type": "code",
   "execution_count": 28,
   "id": "fb035dc5",
   "metadata": {},
   "outputs": [
    {
     "data": {
      "text/plain": [
       "True"
      ]
     },
     "execution_count": 28,
     "metadata": {},
     "output_type": "execute_result"
    }
   ],
   "source": [
    "#here you can check both shrae the same memorory\n",
    "np.shares_memory(ab4,ab5)"
   ]
  },
  {
   "cell_type": "code",
   "execution_count": 30,
   "id": "bf2057db",
   "metadata": {},
   "outputs": [
    {
     "name": "stdout",
     "output_type": "stream",
     "text": [
      "[200   1   2   3   4   5   6   7   8   9]\n",
      "[200   1   2   3   4]\n"
     ]
    }
   ],
   "source": [
    "#if we update one second automtically updated, here you can see that we have udated only ab5 \n",
    "#but in backend its updated the ab4 as well because of sharememory or they will store at same moenory\n",
    "\n",
    "ab5[0:1]=200\n",
    "ab5\n",
    "print(ab4)\n",
    "print(ab5)"
   ]
  },
  {
   "cell_type": "code",
   "execution_count": 31,
   "id": "2c9d65b4",
   "metadata": {},
   "outputs": [
    {
     "name": "stdout",
     "output_type": "stream",
     "text": [
      "2460599487920\n",
      "2460599695664\n"
     ]
    }
   ],
   "source": [
    "#Even if id() values are different, they can still share memory at the NumPy level.\n",
    "print(id(ab4))\n",
    "print(id(ab5))"
   ]
  },
  {
   "cell_type": "code",
   "execution_count": 38,
   "id": "0592aa2e",
   "metadata": {},
   "outputs": [
    {
     "name": "stdout",
     "output_type": "stream",
     "text": [
      "[     0 999999]\n",
      "[0 1 2 3 4 5 6 7 8 9]\n"
     ]
    },
    {
     "data": {
      "text/plain": [
       "False"
      ]
     },
     "execution_count": 38,
     "metadata": {},
     "output_type": "execute_result"
    }
   ],
   "source": [
    "#if we want to force a copy , if we will use copy function then we can easly do this\n",
    "#means it will not effect the base things\n",
    "\n",
    "ab6=np.arange(10)\n",
    "ab6\n",
    "\n",
    "ab7=ab6[:2].copy()\n",
    "ab7\n",
    "\n",
    "ab7[1:2]=999999\n",
    "print(ab7)\n",
    "print(ab6)\n",
    "np.shares_memory(ab6,ab7)"
   ]
  },
  {
   "cell_type": "markdown",
   "id": "37aaafa3",
   "metadata": {},
   "source": [
    "#for example we need only numbers which are divide by 2 from an array\n"
   ]
  },
  {
   "cell_type": "code",
   "execution_count": 43,
   "id": "a6ae95da",
   "metadata": {},
   "outputs": [
    {
     "data": {
      "text/plain": [
       "array([16,  6, 14,  4,  6])"
      ]
     },
     "execution_count": 43,
     "metadata": {},
     "output_type": "execute_result"
    }
   ],
   "source": [
    "#randint function to generate total numbers range from (start_range,end_range, number of elements)\n",
    "\n",
    "#gives only number which are divide by 2\n",
    "\n",
    "ab8=np.random.randint(1,20,10)\n",
    "ab8\n",
    "mask=(ab8%2==0)\n",
    "new_dataset=ab8[mask]\n",
    "new_dataset"
   ]
  },
  {
   "cell_type": "code",
   "execution_count": 46,
   "id": "4b7bc041",
   "metadata": {},
   "outputs": [
    {
     "data": {
      "text/plain": [
       "array([30, 35, 70])"
      ]
     },
     "execution_count": 46,
     "metadata": {},
     "output_type": "execute_result"
    }
   ],
   "source": [
    "#randint function to generate total numbers range from (start_range,end_range, number of elements)\n",
    "\n",
    "#gives only number which are divide by 5\n",
    "\n",
    "ab8=np.random.randint(1,100,10)\n",
    "ab8\n",
    "mask1=(ab8%5==0)\n",
    "new_dataset=ab8[mask1]\n",
    "new_dataset"
   ]
  },
  {
   "cell_type": "code",
   "execution_count": 52,
   "id": "d32b6e56",
   "metadata": {},
   "outputs": [
    {
     "data": {
      "text/plain": [
       "array([48, 69, 50,  4, 98, 71, 15,  4, 21, 20])"
      ]
     },
     "execution_count": 52,
     "metadata": {},
     "output_type": "execute_result"
    }
   ],
   "source": [
    "#for example now we have requirement where we want to implement all even number will becoame -1\n",
    "\n",
    "ab8=np.random.randint(1,100,10)\n",
    "ab8\n",
    "\n"
   ]
  },
  {
   "cell_type": "code",
   "execution_count": 63,
   "id": "46d856b9",
   "metadata": {},
   "outputs": [
    {
     "data": {
      "text/plain": [
       "array([97, -1, -1, 41, 49, -1, -1, 97, -1, -1])"
      ]
     },
     "execution_count": 63,
     "metadata": {},
     "output_type": "execute_result"
    }
   ],
   "source": [
    "ab8[ab8 % 2== 0 ] = -1\n",
    "ab8"
   ]
  },
  {
   "cell_type": "code",
   "execution_count": 61,
   "id": "9e812513",
   "metadata": {},
   "outputs": [
    {
     "name": "stdout",
     "output_type": "stream",
     "text": [
      "Original array: [97  6 54 41 49 68 46 97 12 64]\n",
      "Modified array: [97 -1 -1 41 49 -1 -1 97 -1 -1]\n"
     ]
    }
   ],
   "source": [
    "import numpy as np\n",
    "\n",
    "# Generate an array of 10 random integers between 1 and 100\n",
    "ab8 = np.random.randint(1, 100, 10)\n",
    "print(\"Original array:\", ab8)\n",
    "\n",
    "# Replace all even numbers with -1\n",
    "ab8[ab8 % 2 == 0] = -1\n",
    "print(\"Modified array:\", ab8)"
   ]
  },
  {
   "cell_type": "code",
   "execution_count": 71,
   "id": "78764be0",
   "metadata": {},
   "outputs": [
    {
     "data": {
      "text/plain": [
       "array([ 1, 29,  1, 29,  1,  3])"
      ]
     },
     "execution_count": 71,
     "metadata": {},
     "output_type": "execute_result"
    }
   ],
   "source": [
    "#for example if if have array and we need one or two elements mutiple times\n",
    "#\n",
    "ab9=np.arange(30)\n",
    "ab9\n",
    "ab9[[1,29,1,29,1,3]]"
   ]
  },
  {
   "cell_type": "code",
   "execution_count": 73,
   "id": "8c250b51",
   "metadata": {},
   "outputs": [
    {
     "data": {
      "text/plain": [
       "array([11,  7, 11,  7, 11,  7])"
      ]
     },
     "execution_count": 73,
     "metadata": {},
     "output_type": "execute_result"
    }
   ],
   "source": [
    "ab10=np.random.randint(1,20,10)\n",
    "ab10\n",
    "ab10[[1,2,1,2,1,2]]"
   ]
  },
  {
   "cell_type": "code",
   "execution_count": null,
   "id": "691340a2",
   "metadata": {},
   "outputs": [],
   "source": []
  }
 ],
 "metadata": {
  "kernelspec": {
   "display_name": "Python 3 (ipykernel)",
   "language": "python",
   "name": "python3"
  },
  "language_info": {
   "codemirror_mode": {
    "name": "ipython",
    "version": 3
   },
   "file_extension": ".py",
   "mimetype": "text/x-python",
   "name": "python",
   "nbconvert_exporter": "python",
   "pygments_lexer": "ipython3",
   "version": "3.9.7"
  }
 },
 "nbformat": 4,
 "nbformat_minor": 5
}
