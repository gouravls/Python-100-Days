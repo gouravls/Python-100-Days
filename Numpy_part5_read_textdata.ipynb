{
 "cells": [
  {
   "cell_type": "markdown",
   "id": "86a4f7d0",
   "metadata": {},
   "source": [
    "# reading data from sample superstore\n",
    "\n",
    "np.loadtxt\n",
    "When working with small-to-medium-sized structured text files.\n",
    "When all data in the file is numerical.\n",
    "When you want fast and efficient loading into NumPy arrays.\n",
    "\n"
   ]
  },
  {
   "cell_type": "code",
   "execution_count": 8,
   "id": "398227e0",
   "metadata": {},
   "outputs": [],
   "source": [
    "import numpy as np"
   ]
  },
  {
   "cell_type": "code",
   "execution_count": 16,
   "id": "26a560da",
   "metadata": {},
   "outputs": [
    {
     "ename": "ValueError",
     "evalue": "could not convert string to float: '261.96\\t2\\t0\\t41.9136'",
     "output_type": "error",
     "traceback": [
      "\u001b[1;31m---------------------------------------------------------------------------\u001b[0m",
      "\u001b[1;31mValueError\u001b[0m                                Traceback (most recent call last)",
      "\u001b[1;32mC:\\Users\\GOURAV~1\\AppData\\Local\\Temp/ipykernel_4776/4151017355.py\u001b[0m in \u001b[0;36m<module>\u001b[1;34m\u001b[0m\n\u001b[1;32m----> 1\u001b[1;33m \u001b[0mdata1\u001b[0m\u001b[1;33m=\u001b[0m\u001b[0mnp\u001b[0m\u001b[1;33m.\u001b[0m\u001b[0mloadtxt\u001b[0m\u001b[1;33m(\u001b[0m\u001b[1;34m\"A:\\LLM\\Sample_superstore.txt\"\u001b[0m\u001b[1;33m,\u001b[0m \u001b[0mdelimiter\u001b[0m\u001b[1;33m=\u001b[0m\u001b[1;34m\",\"\u001b[0m\u001b[1;33m,\u001b[0m \u001b[0mdtype\u001b[0m\u001b[1;33m=\u001b[0m\u001b[0mfloat\u001b[0m\u001b[1;33m)\u001b[0m\u001b[1;33m\u001b[0m\u001b[1;33m\u001b[0m\u001b[0m\n\u001b[0m\u001b[0;32m      2\u001b[0m \u001b[0mdata1\u001b[0m\u001b[1;33m\u001b[0m\u001b[1;33m\u001b[0m\u001b[0m\n\u001b[0;32m      3\u001b[0m \u001b[1;33m\u001b[0m\u001b[0m\n\u001b[0;32m      4\u001b[0m \u001b[1;31m#load txt enable to read string columns\u001b[0m\u001b[1;33m\u001b[0m\u001b[1;33m\u001b[0m\u001b[0m\n\u001b[0;32m      5\u001b[0m \u001b[1;31m#even it is not taking header as a string values\u001b[0m\u001b[1;33m\u001b[0m\u001b[1;33m\u001b[0m\u001b[0m\n",
      "\u001b[1;32m~\\anaconda3\\lib\\site-packages\\numpy\\lib\\npyio.py\u001b[0m in \u001b[0;36mloadtxt\u001b[1;34m(fname, dtype, comments, delimiter, converters, skiprows, usecols, unpack, ndmin, encoding, max_rows, like)\u001b[0m\n\u001b[0;32m   1144\u001b[0m         \u001b[1;31m# converting the data\u001b[0m\u001b[1;33m\u001b[0m\u001b[1;33m\u001b[0m\u001b[0m\n\u001b[0;32m   1145\u001b[0m         \u001b[0mX\u001b[0m \u001b[1;33m=\u001b[0m \u001b[1;32mNone\u001b[0m\u001b[1;33m\u001b[0m\u001b[1;33m\u001b[0m\u001b[0m\n\u001b[1;32m-> 1146\u001b[1;33m         \u001b[1;32mfor\u001b[0m \u001b[0mx\u001b[0m \u001b[1;32min\u001b[0m \u001b[0mread_data\u001b[0m\u001b[1;33m(\u001b[0m\u001b[0m_loadtxt_chunksize\u001b[0m\u001b[1;33m)\u001b[0m\u001b[1;33m:\u001b[0m\u001b[1;33m\u001b[0m\u001b[1;33m\u001b[0m\u001b[0m\n\u001b[0m\u001b[0;32m   1147\u001b[0m             \u001b[1;32mif\u001b[0m \u001b[0mX\u001b[0m \u001b[1;32mis\u001b[0m \u001b[1;32mNone\u001b[0m\u001b[1;33m:\u001b[0m\u001b[1;33m\u001b[0m\u001b[1;33m\u001b[0m\u001b[0m\n\u001b[0;32m   1148\u001b[0m                 \u001b[0mX\u001b[0m \u001b[1;33m=\u001b[0m \u001b[0mnp\u001b[0m\u001b[1;33m.\u001b[0m\u001b[0marray\u001b[0m\u001b[1;33m(\u001b[0m\u001b[0mx\u001b[0m\u001b[1;33m,\u001b[0m \u001b[0mdtype\u001b[0m\u001b[1;33m)\u001b[0m\u001b[1;33m\u001b[0m\u001b[1;33m\u001b[0m\u001b[0m\n",
      "\u001b[1;32m~\\anaconda3\\lib\\site-packages\\numpy\\lib\\npyio.py\u001b[0m in \u001b[0;36mread_data\u001b[1;34m(chunk_size)\u001b[0m\n\u001b[0;32m    995\u001b[0m \u001b[1;33m\u001b[0m\u001b[0m\n\u001b[0;32m    996\u001b[0m             \u001b[1;31m# Convert each value according to its column and store\u001b[0m\u001b[1;33m\u001b[0m\u001b[1;33m\u001b[0m\u001b[0m\n\u001b[1;32m--> 997\u001b[1;33m             \u001b[0mitems\u001b[0m \u001b[1;33m=\u001b[0m \u001b[1;33m[\u001b[0m\u001b[0mconv\u001b[0m\u001b[1;33m(\u001b[0m\u001b[0mval\u001b[0m\u001b[1;33m)\u001b[0m \u001b[1;32mfor\u001b[0m \u001b[1;33m(\u001b[0m\u001b[0mconv\u001b[0m\u001b[1;33m,\u001b[0m \u001b[0mval\u001b[0m\u001b[1;33m)\u001b[0m \u001b[1;32min\u001b[0m \u001b[0mzip\u001b[0m\u001b[1;33m(\u001b[0m\u001b[0mconverters\u001b[0m\u001b[1;33m,\u001b[0m \u001b[0mvals\u001b[0m\u001b[1;33m)\u001b[0m\u001b[1;33m]\u001b[0m\u001b[1;33m\u001b[0m\u001b[1;33m\u001b[0m\u001b[0m\n\u001b[0m\u001b[0;32m    998\u001b[0m \u001b[1;33m\u001b[0m\u001b[0m\n\u001b[0;32m    999\u001b[0m             \u001b[1;31m# Then pack it according to the dtype's nesting\u001b[0m\u001b[1;33m\u001b[0m\u001b[1;33m\u001b[0m\u001b[0m\n",
      "\u001b[1;32m~\\anaconda3\\lib\\site-packages\\numpy\\lib\\npyio.py\u001b[0m in \u001b[0;36m<listcomp>\u001b[1;34m(.0)\u001b[0m\n\u001b[0;32m    995\u001b[0m \u001b[1;33m\u001b[0m\u001b[0m\n\u001b[0;32m    996\u001b[0m             \u001b[1;31m# Convert each value according to its column and store\u001b[0m\u001b[1;33m\u001b[0m\u001b[1;33m\u001b[0m\u001b[0m\n\u001b[1;32m--> 997\u001b[1;33m             \u001b[0mitems\u001b[0m \u001b[1;33m=\u001b[0m \u001b[1;33m[\u001b[0m\u001b[0mconv\u001b[0m\u001b[1;33m(\u001b[0m\u001b[0mval\u001b[0m\u001b[1;33m)\u001b[0m \u001b[1;32mfor\u001b[0m \u001b[1;33m(\u001b[0m\u001b[0mconv\u001b[0m\u001b[1;33m,\u001b[0m \u001b[0mval\u001b[0m\u001b[1;33m)\u001b[0m \u001b[1;32min\u001b[0m \u001b[0mzip\u001b[0m\u001b[1;33m(\u001b[0m\u001b[0mconverters\u001b[0m\u001b[1;33m,\u001b[0m \u001b[0mvals\u001b[0m\u001b[1;33m)\u001b[0m\u001b[1;33m]\u001b[0m\u001b[1;33m\u001b[0m\u001b[1;33m\u001b[0m\u001b[0m\n\u001b[0m\u001b[0;32m    998\u001b[0m \u001b[1;33m\u001b[0m\u001b[0m\n\u001b[0;32m    999\u001b[0m             \u001b[1;31m# Then pack it according to the dtype's nesting\u001b[0m\u001b[1;33m\u001b[0m\u001b[1;33m\u001b[0m\u001b[0m\n",
      "\u001b[1;32m~\\anaconda3\\lib\\site-packages\\numpy\\lib\\npyio.py\u001b[0m in \u001b[0;36mfloatconv\u001b[1;34m(x)\u001b[0m\n\u001b[0;32m    732\u001b[0m         \u001b[1;32mif\u001b[0m \u001b[1;34m'0x'\u001b[0m \u001b[1;32min\u001b[0m \u001b[0mx\u001b[0m\u001b[1;33m:\u001b[0m\u001b[1;33m\u001b[0m\u001b[1;33m\u001b[0m\u001b[0m\n\u001b[0;32m    733\u001b[0m             \u001b[1;32mreturn\u001b[0m \u001b[0mfloat\u001b[0m\u001b[1;33m.\u001b[0m\u001b[0mfromhex\u001b[0m\u001b[1;33m(\u001b[0m\u001b[0mx\u001b[0m\u001b[1;33m)\u001b[0m\u001b[1;33m\u001b[0m\u001b[1;33m\u001b[0m\u001b[0m\n\u001b[1;32m--> 734\u001b[1;33m         \u001b[1;32mreturn\u001b[0m \u001b[0mfloat\u001b[0m\u001b[1;33m(\u001b[0m\u001b[0mx\u001b[0m\u001b[1;33m)\u001b[0m\u001b[1;33m\u001b[0m\u001b[1;33m\u001b[0m\u001b[0m\n\u001b[0m\u001b[0;32m    735\u001b[0m \u001b[1;33m\u001b[0m\u001b[0m\n\u001b[0;32m    736\u001b[0m     \u001b[0mtyp\u001b[0m \u001b[1;33m=\u001b[0m \u001b[0mdtype\u001b[0m\u001b[1;33m.\u001b[0m\u001b[0mtype\u001b[0m\u001b[1;33m\u001b[0m\u001b[1;33m\u001b[0m\u001b[0m\n",
      "\u001b[1;31mValueError\u001b[0m: could not convert string to float: '261.96\\t2\\t0\\t41.9136'"
     ]
    }
   ],
   "source": [
    "data1=np.loadtxt(\"A:\\LLM\\Sample_superstore.txt\", delimiter=\",\", dtype=float)\n",
    "data1\n",
    "\n",
    "#load txt enable to read string columns\n",
    "#even it is not taking header as a string values"
   ]
  },
  {
   "cell_type": "code",
   "execution_count": 22,
   "id": "f4a0bbbb",
   "metadata": {},
   "outputs": [
    {
     "data": {
      "text/plain": [
       "array([[  261.96  ,     2.    ,     0.    ,    41.9136],\n",
       "       [  731.94  ,     3.    ,     0.    ,   219.582 ],\n",
       "       [   14.62  ,     2.    ,     0.    ,     6.8714],\n",
       "       [  957.5775,     5.    ,     0.45  ,  -383.031 ],\n",
       "       [   22.368 ,     2.    ,     0.2   ,     2.5164],\n",
       "       [   48.86  ,     7.    ,     0.    ,    14.1694],\n",
       "       [    7.28  ,     4.    ,     0.    ,     1.9656],\n",
       "       [  907.152 ,     6.    ,     0.2   ,    90.7152],\n",
       "       [   18.504 ,     3.    ,     0.2   ,     5.7825],\n",
       "       [  114.9   ,     5.    ,     0.    ,    34.47  ],\n",
       "       [ 1706.184 ,     9.    ,     0.2   ,    85.3092],\n",
       "       [  911.424 ,     4.    ,     0.2   ,    68.3568],\n",
       "       [   15.552 ,     3.    ,     0.2   ,     5.4432],\n",
       "       [  407.976 ,     3.    ,     0.2   ,   132.5922],\n",
       "       [   68.81  ,     5.    ,     0.8   ,  -123.858 ],\n",
       "       [    2.544 ,     3.    ,     0.8   ,    -3.816 ],\n",
       "       [  665.88  ,     6.    ,     0.    ,    13.3176],\n",
       "       [   55.5   ,     2.    ,     0.    ,     9.99  ],\n",
       "       [    8.56  ,     2.    ,     0.    ,     2.4824],\n",
       "       [  213.48  ,     3.    ,     0.2   ,    16.011 ],\n",
       "       [   22.72  ,     4.    ,     0.2   ,     7.384 ],\n",
       "       [   19.46  ,     7.    ,     0.    ,     5.0596],\n",
       "       [   60.34  ,     7.    ,     0.    ,    15.6884],\n",
       "       [   71.372 ,     2.    ,     0.3   ,    -1.0196],\n",
       "       [ 1044.63  ,     3.    ,     0.    ,   240.2649],\n",
       "       [   11.648 ,     2.    ,     0.2   ,     4.2224],\n",
       "       [   90.57  ,     3.    ,     0.    ,    11.7741],\n",
       "       [ 3083.43  ,     7.    ,     0.5   , -1665.0522],\n",
       "       [    9.618 ,     2.    ,     0.7   ,    -7.0532],\n",
       "       [  124.2   ,     3.    ,     0.2   ,    15.525 ]])"
      ]
     },
     "execution_count": 22,
     "metadata": {},
     "output_type": "execute_result"
    }
   ],
   "source": [
    "#here in loadtxt we need to provide only numerical vlaues, we can skip header as well\n",
    "#we have option for skip header\n",
    "#similarly we can pass parameter max_rows also\n",
    "#if values are coming another scienticfic then we can supress then via set_printoptions\n",
    "\n",
    "data2=np.loadtxt(\"A:\\LLM\\Sample_superstore.txt\" , max_rows=30)\n",
    "np.set_printoptions(suppress=True) \n",
    "data2"
   ]
  },
  {
   "cell_type": "code",
   "execution_count": 24,
   "id": "23295482",
   "metadata": {},
   "outputs": [
    {
     "data": {
      "text/plain": [
       "array([[731.94  ,   3.    ,   0.    , 219.582 ],\n",
       "       [ 14.62  ,   2.    ,   0.    ,   6.8714]])"
      ]
     },
     "execution_count": 24,
     "metadata": {},
     "output_type": "execute_result"
    }
   ],
   "source": [
    "#now this is a set of array and you are using slicing and indexing to access the data\n",
    "#for example I have used slicing then it will remove the rows\n",
    "data2[1:3]"
   ]
  },
  {
   "cell_type": "code",
   "execution_count": 25,
   "id": "d43567e7",
   "metadata": {},
   "outputs": [
    {
     "data": {
      "text/plain": [
       "array([[14.62  ,  2.    ,  0.    ,  6.8714]])"
      ]
     },
     "execution_count": 25,
     "metadata": {},
     "output_type": "execute_result"
    }
   ],
   "source": [
    "data2[1:3][1:2]"
   ]
  },
  {
   "cell_type": "code",
   "execution_count": 28,
   "id": "554cfac8",
   "metadata": {},
   "outputs": [
    {
     "data": {
      "text/plain": [
       "219.582"
      ]
     },
     "execution_count": 28,
     "metadata": {},
     "output_type": "execute_result"
    }
   ],
   "source": [
    "#here i have used indexing\n",
    "#first row and third column values\n",
    "\n",
    "data2[1,3]"
   ]
  },
  {
   "cell_type": "code",
   "execution_count": 30,
   "id": "dd697234",
   "metadata": {},
   "outputs": [
    {
     "data": {
      "text/plain": [
       "0.45"
      ]
     },
     "execution_count": 30,
     "metadata": {},
     "output_type": "execute_result"
    }
   ],
   "source": [
    "data2[3][2]"
   ]
  },
  {
   "cell_type": "code",
   "execution_count": 33,
   "id": "1bde9f14",
   "metadata": {},
   "outputs": [
    {
     "data": {
      "text/plain": [
       "array([0.  , 0.  , 0.  , 0.45, 0.2 , 0.  , 0.  , 0.2 , 0.2 , 0.  , 0.2 ,\n",
       "       0.2 , 0.2 , 0.2 , 0.8 , 0.8 , 0.  , 0.  , 0.  , 0.2 , 0.2 , 0.  ,\n",
       "       0.  , 0.3 , 0.  , 0.2 , 0.  , 0.5 , 0.7 , 0.2 ])"
      ]
     },
     "execution_count": 33,
     "metadata": {},
     "output_type": "execute_result"
    }
   ],
   "source": [
    "#if we need particular column then we can use this.\n",
    "\n",
    "data2[:,2]"
   ]
  },
  {
   "cell_type": "code",
   "execution_count": 35,
   "id": "07fa882b",
   "metadata": {},
   "outputs": [
    {
     "data": {
      "text/plain": [
       "array([[  261.96  ,   731.94  ,    14.62  ,   957.5775,    22.368 ,\n",
       "           48.86  ,     7.28  ,   907.152 ,    18.504 ,   114.9   ,\n",
       "         1706.184 ,   911.424 ,    15.552 ,   407.976 ,    68.81  ,\n",
       "            2.544 ,   665.88  ,    55.5   ,     8.56  ,   213.48  ,\n",
       "           22.72  ,    19.46  ,    60.34  ,    71.372 ,  1044.63  ,\n",
       "           11.648 ,    90.57  ,  3083.43  ,     9.618 ,   124.2   ],\n",
       "       [    2.    ,     3.    ,     2.    ,     5.    ,     2.    ,\n",
       "            7.    ,     4.    ,     6.    ,     3.    ,     5.    ,\n",
       "            9.    ,     4.    ,     3.    ,     3.    ,     5.    ,\n",
       "            3.    ,     6.    ,     2.    ,     2.    ,     3.    ,\n",
       "            4.    ,     7.    ,     7.    ,     2.    ,     3.    ,\n",
       "            2.    ,     3.    ,     7.    ,     2.    ,     3.    ],\n",
       "       [    0.    ,     0.    ,     0.    ,     0.45  ,     0.2   ,\n",
       "            0.    ,     0.    ,     0.2   ,     0.2   ,     0.    ,\n",
       "            0.2   ,     0.2   ,     0.2   ,     0.2   ,     0.8   ,\n",
       "            0.8   ,     0.    ,     0.    ,     0.    ,     0.2   ,\n",
       "            0.2   ,     0.    ,     0.    ,     0.3   ,     0.    ,\n",
       "            0.2   ,     0.    ,     0.5   ,     0.7   ,     0.2   ],\n",
       "       [   41.9136,   219.582 ,     6.8714,  -383.031 ,     2.5164,\n",
       "           14.1694,     1.9656,    90.7152,     5.7825,    34.47  ,\n",
       "           85.3092,    68.3568,     5.4432,   132.5922,  -123.858 ,\n",
       "           -3.816 ,    13.3176,     9.99  ,     2.4824,    16.011 ,\n",
       "            7.384 ,     5.0596,    15.6884,    -1.0196,   240.2649,\n",
       "            4.2224,    11.7741, -1665.0522,    -7.0532,    15.525 ]])"
      ]
     },
     "execution_count": 35,
     "metadata": {},
     "output_type": "execute_result"
    }
   ],
   "source": [
    "#How to perform transpose in python(numpy)\n",
    "#oNLY WE NEED TO use T\n",
    "#IT will tranpose the data row into columns and columns into rows\n",
    "\n",
    "data3=data2.T\n",
    "data3"
   ]
  },
  {
   "cell_type": "code",
   "execution_count": 36,
   "id": "75c45abe",
   "metadata": {},
   "outputs": [
    {
     "data": {
      "text/plain": [
       "array([[  261.96  ,     2.    ,     0.    ,    41.9136],\n",
       "       [  731.94  ,     3.    ,     0.    ,   219.582 ],\n",
       "       [   14.62  ,     2.    ,     0.    ,     6.8714],\n",
       "       [  957.5775,     5.    ,     0.45  ,  -383.031 ],\n",
       "       [   22.368 ,     2.    ,     0.2   ,     2.5164],\n",
       "       [   48.86  ,     7.    ,     0.    ,    14.1694],\n",
       "       [    7.28  ,     4.    ,     0.    ,     1.9656],\n",
       "       [  907.152 ,     6.    ,     0.2   ,    90.7152],\n",
       "       [   18.504 ,     3.    ,     0.2   ,     5.7825],\n",
       "       [  114.9   ,     5.    ,     0.    ,    34.47  ],\n",
       "       [ 1706.184 ,     9.    ,     0.2   ,    85.3092],\n",
       "       [  911.424 ,     4.    ,     0.2   ,    68.3568],\n",
       "       [   15.552 ,     3.    ,     0.2   ,     5.4432],\n",
       "       [  407.976 ,     3.    ,     0.2   ,   132.5922],\n",
       "       [   68.81  ,     5.    ,     0.8   ,  -123.858 ],\n",
       "       [    2.544 ,     3.    ,     0.8   ,    -3.816 ],\n",
       "       [  665.88  ,     6.    ,     0.    ,    13.3176],\n",
       "       [   55.5   ,     2.    ,     0.    ,     9.99  ],\n",
       "       [    8.56  ,     2.    ,     0.    ,     2.4824],\n",
       "       [  213.48  ,     3.    ,     0.2   ,    16.011 ],\n",
       "       [   22.72  ,     4.    ,     0.2   ,     7.384 ],\n",
       "       [   19.46  ,     7.    ,     0.    ,     5.0596],\n",
       "       [   60.34  ,     7.    ,     0.    ,    15.6884],\n",
       "       [   71.372 ,     2.    ,     0.3   ,    -1.0196],\n",
       "       [ 1044.63  ,     3.    ,     0.    ,   240.2649],\n",
       "       [   11.648 ,     2.    ,     0.2   ,     4.2224],\n",
       "       [   90.57  ,     3.    ,     0.    ,    11.7741],\n",
       "       [ 3083.43  ,     7.    ,     0.5   , -1665.0522],\n",
       "       [    9.618 ,     2.    ,     0.7   ,    -7.0532],\n",
       "       [  124.2   ,     3.    ,     0.2   ,    15.525 ]])"
      ]
     },
     "execution_count": 36,
     "metadata": {},
     "output_type": "execute_result"
    }
   ],
   "source": [
    "data4=data3.T\n",
    "data4"
   ]
  },
  {
   "cell_type": "code",
   "execution_count": 37,
   "id": "d53dfcf1",
   "metadata": {},
   "outputs": [
    {
     "data": {
      "text/plain": [
       "array([654.51874991,   1.94050394,   0.2345504 , 318.32923069])"
      ]
     },
     "execution_count": 37,
     "metadata": {},
     "output_type": "execute_result"
    }
   ],
   "source": [
    "#numpy is similar to proc means in SAS\n",
    "#for example we want to calculate the standard deviation of this\n",
    "#its very easy here, Only we need to mention we want to claucltae the rows wise or column wise\n",
    "#that also decided by axis value\n",
    "\n",
    "#when we mention axis=0 then it means compute by columns not rows\n",
    "\n",
    "data5=data4.std(axis=0)\n",
    "data5"
   ]
  },
  {
   "cell_type": "code",
   "execution_count": 38,
   "id": "7640c09f",
   "metadata": {},
   "outputs": [
    {
     "data": {
      "text/plain": [
       "array([ 108.39064382,  298.40549434,    5.63469319,  494.87211302,\n",
       "          9.04583484,   18.78192136,    2.69260578,  380.5102834 ,\n",
       "          6.99997146,   45.98278666,  725.91296678,  385.13888605,\n",
       "          5.79183055,  165.91653342,   69.81210298,    2.69611276,\n",
       "        285.58518655,   22.61263516,    3.19804082,   89.86493636,\n",
       "          8.55234985,    7.15751102,   23.5192086 ,   30.7388157 ,\n",
       "        428.46229143,    4.35630941,   37.33701073, 1715.49604841,\n",
       "          5.91214903,   51.40237523])"
      ]
     },
     "execution_count": 38,
     "metadata": {},
     "output_type": "execute_result"
    }
   ],
   "source": [
    "# we want to do calucation by row wise the we need to used axis =1\n",
    "\n",
    "data6=data4.std(axis=1)\n",
    "data6"
   ]
  },
  {
   "cell_type": "code",
   "execution_count": 39,
   "id": "2af2ad7c",
   "metadata": {},
   "outputs": [
    {
     "data": {
      "text/plain": [
       "array([0, 0, 0, 0, 0, 0, 0, 0, 0, 0, 0, 0, 0, 0, 0, 1, 0, 0, 0, 0, 0, 0,\n",
       "       0, 0, 0, 0, 0, 0, 0, 0], dtype=int64)"
      ]
     },
     "execution_count": 39,
     "metadata": {},
     "output_type": "execute_result"
    }
   ],
   "source": [
    "data7=np.argmax(data4, axis=1)\n",
    "data7"
   ]
  },
  {
   "cell_type": "code",
   "execution_count": null,
   "id": "70fd3ddc",
   "metadata": {},
   "outputs": [],
   "source": [
    "#In Numpy we have concept called broadcasting"
   ]
  }
 ],
 "metadata": {
  "kernelspec": {
   "display_name": "Python 3 (ipykernel)",
   "language": "python",
   "name": "python3"
  },
  "language_info": {
   "codemirror_mode": {
    "name": "ipython",
    "version": 3
   },
   "file_extension": ".py",
   "mimetype": "text/x-python",
   "name": "python",
   "nbconvert_exporter": "python",
   "pygments_lexer": "ipython3",
   "version": "3.9.7"
  }
 },
 "nbformat": 4,
 "nbformat_minor": 5
}
