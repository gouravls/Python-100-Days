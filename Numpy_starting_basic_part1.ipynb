{
 "cells": [
  {
   "cell_type": "code",
   "execution_count": 2,
   "id": "4fab80db",
   "metadata": {},
   "outputs": [],
   "source": [
    "#super efficent libraray\n",
    "import numpy as np"
   ]
  },
  {
   "cell_type": "markdown",
   "id": "5d21082b",
   "metadata": {},
   "source": [
    "#here we have learn lot of basic things\n",
    "how to create an array from list\n",
    "how to check array is 1d or 2d or nd (using ndim)\n",
    "how many rows and columns are here (shape)\n",
    "use of arange function(to genearte range )\n",
    "arange function have 3 arguments (start, end, step)\n",
    "linspace function have 3 argument(start,end, linear_space)\n",
    "diag function to create diagnal values\n",
    "ones function to create all ones matrix(but make sure they will take only one argument ,if you want to craete a matrix then pass tuple)\n",
    "zero function to create all zero (but make sure they will take only one argument ,if you want to craete a matrix then pass tuple)\n",
    "rand function to generate random number , please make sure to use random module in numpy."
   ]
  },
  {
   "cell_type": "code",
   "execution_count": 5,
   "id": "ca42aeda",
   "metadata": {},
   "outputs": [
    {
     "data": {
      "text/plain": [
       "array([10, 20, 30, 40, 50, 60])"
      ]
     },
     "execution_count": 5,
     "metadata": {},
     "output_type": "execute_result"
    }
   ],
   "source": [
    "#how to create array\n",
    "#it will take list as input\n",
    "#please make sure to use array function here\n",
    "\n",
    "list1=[10,20,30,40,50,60]\n",
    "\n",
    "list2=np.array(list1)\n",
    "list2"
   ]
  },
  {
   "cell_type": "code",
   "execution_count": 7,
   "id": "c3436df0",
   "metadata": {},
   "outputs": [
    {
     "data": {
      "text/plain": [
       "1"
      ]
     },
     "execution_count": 7,
     "metadata": {},
     "output_type": "execute_result"
    }
   ],
   "source": [
    "#how to check array dimension\n",
    "#use ndim function\n",
    "\n",
    "list2.ndim"
   ]
  },
  {
   "cell_type": "code",
   "execution_count": 8,
   "id": "f18feda5",
   "metadata": {},
   "outputs": [
    {
     "ename": "TypeError",
     "evalue": "Field elements must be 2- or 3-tuples, got '5'",
     "output_type": "error",
     "traceback": [
      "\u001b[1;31m---------------------------------------------------------------------------\u001b[0m",
      "\u001b[1;31mTypeError\u001b[0m                                 Traceback (most recent call last)",
      "\u001b[1;32mC:\\Users\\GOURAV~1\\AppData\\Local\\Temp/ipykernel_5872/2757531443.py\u001b[0m in \u001b[0;36m<module>\u001b[1;34m\u001b[0m\n\u001b[0;32m      7\u001b[0m \u001b[0ml2\u001b[0m\u001b[1;33m=\u001b[0m\u001b[1;33m[\u001b[0m\u001b[1;36m5\u001b[0m\u001b[1;33m,\u001b[0m\u001b[1;36m6\u001b[0m\u001b[1;33m,\u001b[0m\u001b[1;36m7\u001b[0m\u001b[1;33m,\u001b[0m\u001b[1;36m8\u001b[0m\u001b[1;33m]\u001b[0m\u001b[1;33m\u001b[0m\u001b[1;33m\u001b[0m\u001b[0m\n\u001b[0;32m      8\u001b[0m \u001b[1;33m\u001b[0m\u001b[0m\n\u001b[1;32m----> 9\u001b[1;33m \u001b[0mtwo_dim\u001b[0m\u001b[1;33m=\u001b[0m\u001b[0mnp\u001b[0m\u001b[1;33m.\u001b[0m\u001b[0marray\u001b[0m\u001b[1;33m(\u001b[0m\u001b[0ml1\u001b[0m\u001b[1;33m,\u001b[0m\u001b[0ml2\u001b[0m\u001b[1;33m)\u001b[0m\u001b[1;33m\u001b[0m\u001b[1;33m\u001b[0m\u001b[0m\n\u001b[0m\u001b[0;32m     10\u001b[0m \u001b[0mtwo_dim\u001b[0m\u001b[1;33m\u001b[0m\u001b[1;33m\u001b[0m\u001b[0m\n",
      "\u001b[1;31mTypeError\u001b[0m: Field elements must be 2- or 3-tuples, got '5'"
     ]
    }
   ],
   "source": [
    "#how to create a two dimension array\n",
    "#then we need two lists \n",
    "#only list of rwo\n",
    "#another list for column\n",
    "\n",
    "l1=[1,2,3,4]\n",
    "l2=[5,6,7,8]\n",
    "\n",
    "two_dim=np.array(l1,l2)\n",
    "two_dim\n",
    "\n",
    "#this will throw an error beacuse in array we can pass only one element"
   ]
  },
  {
   "cell_type": "code",
   "execution_count": 9,
   "id": "d5913677",
   "metadata": {},
   "outputs": [
    {
     "data": {
      "text/plain": [
       "array([[1, 2, 3, 4],\n",
       "       [5, 6, 7, 8]])"
      ]
     },
     "execution_count": 9,
     "metadata": {},
     "output_type": "execute_result"
    }
   ],
   "source": [
    "#how to create a two dimension array\n",
    "#then we need two lists \n",
    "#only list of rwo\n",
    "#another list for column\n",
    "#to avoid that error we can  pass mutiple list we need to pass list here\n",
    "\n",
    "l1=[1,2,3,4]\n",
    "l2=[5,6,7,8]\n",
    "\n",
    "two_dim=np.array([l1,l2])\n",
    "two_dim\n",
    "\n"
   ]
  },
  {
   "cell_type": "code",
   "execution_count": 10,
   "id": "3ad8a623",
   "metadata": {},
   "outputs": [
    {
     "data": {
      "text/plain": [
       "2"
      ]
     },
     "execution_count": 10,
     "metadata": {},
     "output_type": "execute_result"
    }
   ],
   "source": [
    "two_dim.ndim"
   ]
  },
  {
   "cell_type": "code",
   "execution_count": 12,
   "id": "a013b002",
   "metadata": {},
   "outputs": [
    {
     "data": {
      "text/plain": [
       "(2, 4)"
      ]
     },
     "execution_count": 12,
     "metadata": {},
     "output_type": "execute_result"
    }
   ],
   "source": [
    "#if you want to know how many rows and how many columns then use shape\n",
    "\n",
    "two_dim.shape"
   ]
  },
  {
   "cell_type": "code",
   "execution_count": 23,
   "id": "d8108d69",
   "metadata": {},
   "outputs": [
    {
     "data": {
      "text/plain": [
       "array([[[[ 1,  2,  4,  5],\n",
       "         [ 5,  6,  6,  7]]],\n",
       "\n",
       "\n",
       "       [[[44, 55, 66, 77],\n",
       "         [ 5,  6,  6,  7]]]])"
      ]
     },
     "execution_count": 23,
     "metadata": {},
     "output_type": "execute_result"
    }
   ],
   "source": [
    "l1=[1,2,4,5]\n",
    "l2=[5,6,6,7]\n",
    "l3=[44,55,66,77]\n",
    "\n",
    "#to create mutiple dimesion list we need to create list inside list-->list inside list\n",
    "#like here you can see lot of brackets\n",
    "\n",
    "four_dim=np.array([[[l1,l2]], [[l3,l2]]])\n",
    "four_dim"
   ]
  },
  {
   "cell_type": "code",
   "execution_count": 24,
   "id": "1beccb9d",
   "metadata": {},
   "outputs": [
    {
     "data": {
      "text/plain": [
       "4"
      ]
     },
     "execution_count": 24,
     "metadata": {},
     "output_type": "execute_result"
    }
   ],
   "source": [
    "four_dim.ndim"
   ]
  },
  {
   "cell_type": "code",
   "execution_count": 25,
   "id": "ffbfc4f5",
   "metadata": {},
   "outputs": [
    {
     "data": {
      "text/plain": [
       "(2, 1, 2, 4)"
      ]
     },
     "execution_count": 25,
     "metadata": {},
     "output_type": "execute_result"
    }
   ],
   "source": [
    "four_dim.shape"
   ]
  },
  {
   "cell_type": "code",
   "execution_count": null,
   "id": "eccb9aa5",
   "metadata": {},
   "outputs": [],
   "source": [
    "# Do you know 1d array is called vector\n",
    "#Do you know 2d array is called matrix\n",
    "#do you know nd arry is called as tensor"
   ]
  },
  {
   "cell_type": "code",
   "execution_count": 27,
   "id": "b9159330",
   "metadata": {},
   "outputs": [
    {
     "data": {
      "text/plain": [
       "array([1, 2, 3, 4, 5, 6, 7, 8, 9])"
      ]
     },
     "execution_count": 27,
     "metadata": {},
     "output_type": "execute_result"
    }
   ],
   "source": [
    "#till now we have learn create numpy array with help of list\n",
    "#let's create numpy array with help of arange function\n",
    "\n",
    "a1=np.arange(1,10)\n",
    "a1\n",
    "\n",
    "#here 1 is starting value and 10 is ending value"
   ]
  },
  {
   "cell_type": "code",
   "execution_count": 28,
   "id": "744178ca",
   "metadata": {},
   "outputs": [
    {
     "data": {
      "text/plain": [
       "array([1, 3, 5, 7, 9])"
      ]
     },
     "execution_count": 28,
     "metadata": {},
     "output_type": "execute_result"
    }
   ],
   "source": [
    "a1=np.arange(1,10,2)\n",
    "a1\n",
    "\n",
    "#here 1 is starting value and 10 is ending value\n",
    "#3rd argument in arange function \"step\""
   ]
  },
  {
   "cell_type": "code",
   "execution_count": 33,
   "id": "b59d5b8c",
   "metadata": {},
   "outputs": [
    {
     "data": {
      "text/plain": [
       "array([1.        , 1.02040816, 1.04081633, 1.06122449, 1.08163265,\n",
       "       1.10204082, 1.12244898, 1.14285714, 1.16326531, 1.18367347,\n",
       "       1.20408163, 1.2244898 , 1.24489796, 1.26530612, 1.28571429,\n",
       "       1.30612245, 1.32653061, 1.34693878, 1.36734694, 1.3877551 ,\n",
       "       1.40816327, 1.42857143, 1.44897959, 1.46938776, 1.48979592,\n",
       "       1.51020408, 1.53061224, 1.55102041, 1.57142857, 1.59183673,\n",
       "       1.6122449 , 1.63265306, 1.65306122, 1.67346939, 1.69387755,\n",
       "       1.71428571, 1.73469388, 1.75510204, 1.7755102 , 1.79591837,\n",
       "       1.81632653, 1.83673469, 1.85714286, 1.87755102, 1.89795918,\n",
       "       1.91836735, 1.93877551, 1.95918367, 1.97959184, 2.        ])"
      ]
     },
     "execution_count": 33,
     "metadata": {},
     "output_type": "execute_result"
    }
   ],
   "source": [
    "#linear space function\n",
    "#start and end\n",
    "#third point breaking into linear space\n",
    "a2=np.linspace(1,2)\n",
    "a2\n",
    "\n"
   ]
  },
  {
   "cell_type": "code",
   "execution_count": 36,
   "id": "e18cb46c",
   "metadata": {},
   "outputs": [
    {
     "data": {
      "text/plain": [
       "array([ 1., 10.])"
      ]
     },
     "execution_count": 36,
     "metadata": {},
     "output_type": "execute_result"
    }
   ],
   "source": [
    "a3=np.linspace(1,10,2)\n",
    "a3\n",
    "#for example here we mention linear space into 2 then it will divide our range into two euql parts\n",
    "#like in output 1 and 10"
   ]
  },
  {
   "cell_type": "code",
   "execution_count": 37,
   "id": "30de4ee6",
   "metadata": {},
   "outputs": [
    {
     "data": {
      "text/plain": [
       "array([ 1.  ,  3.25,  5.5 ,  7.75, 10.  ])"
      ]
     },
     "execution_count": 37,
     "metadata": {},
     "output_type": "execute_result"
    }
   ],
   "source": [
    "a3=np.linspace(1,10,5)\n",
    "a3\n",
    "#for example here we mention linear space into 5 then it will divide our range into 5 euql parts\n",
    "#like in output 1 and 10  1.  ,  3.25,  5.5 ,  7.75, 10. "
   ]
  },
  {
   "cell_type": "code",
   "execution_count": null,
   "id": "0f3b429e",
   "metadata": {},
   "outputs": [],
   "source": [
    "#things we learn\n",
    "#numpy is import libraray for all calculation\n",
    "#how to create an array from list , use numpy.array()\n",
    "#how to create 2 dim array, use numpy.array([l1,l2]) two list\n",
    "#how to check that array is one dim or two dim then use ndim\n",
    "#how to check row and columns then use shape"
   ]
  },
  {
   "cell_type": "code",
   "execution_count": 39,
   "id": "719c5ce1",
   "metadata": {},
   "outputs": [
    {
     "data": {
      "text/plain": [
       "array([1., 1., 1.])"
      ]
     },
     "execution_count": 39,
     "metadata": {},
     "output_type": "execute_result"
    }
   ],
   "source": [
    "#function ones to create ones\n",
    "a4=np.ones(3)\n",
    "a4"
   ]
  },
  {
   "cell_type": "code",
   "execution_count": 42,
   "id": "a13afb3b",
   "metadata": {},
   "outputs": [
    {
     "data": {
      "text/plain": [
       "array([[1., 1., 1.],\n",
       "       [1., 1., 1.],\n",
       "       [1., 1., 1.]])"
      ]
     },
     "execution_count": 42,
     "metadata": {},
     "output_type": "execute_result"
    }
   ],
   "source": [
    "#function ones to create ones\n",
    "#here make sure ones take only one value in argument, but if we want to take more values then we need to pass tuple\n",
    "a5=np.ones((3,3))\n",
    "a5"
   ]
  },
  {
   "cell_type": "code",
   "execution_count": 44,
   "id": "bfbcff1b",
   "metadata": {},
   "outputs": [
    {
     "data": {
      "text/plain": [
       "array([0., 0., 0.])"
      ]
     },
     "execution_count": 44,
     "metadata": {},
     "output_type": "execute_result"
    }
   ],
   "source": [
    "#we have zeros function as well\n",
    "a6=np.zeros(3)\n",
    "a6"
   ]
  },
  {
   "cell_type": "code",
   "execution_count": 46,
   "id": "c4eba47a",
   "metadata": {},
   "outputs": [
    {
     "data": {
      "text/plain": [
       "array([[0., 0., 0.],\n",
       "       [0., 0., 0.],\n",
       "       [0., 0., 0.]])"
      ]
     },
     "execution_count": 46,
     "metadata": {},
     "output_type": "execute_result"
    }
   ],
   "source": [
    "#we have zeros function as well, here also we need to pass an tuple\n",
    "a7=np.zeros((3,3))\n",
    "a7"
   ]
  },
  {
   "cell_type": "code",
   "execution_count": 47,
   "id": "f6da5ece",
   "metadata": {},
   "outputs": [
    {
     "data": {
      "text/plain": [
       "array([], dtype=float64)"
      ]
     },
     "execution_count": 47,
     "metadata": {},
     "output_type": "execute_result"
    }
   ],
   "source": [
    "#how to create any emplty array\n",
    "\n",
    "a8=[]\n",
    "a9=np.array(a8)\n",
    "a9"
   ]
  },
  {
   "cell_type": "code",
   "execution_count": 49,
   "id": "5c91d292",
   "metadata": {},
   "outputs": [
    {
     "data": {
      "text/plain": [
       "array([[1., 0., 0.],\n",
       "       [0., 1., 0.],\n",
       "       [0., 0., 1.]])"
      ]
     },
     "execution_count": 49,
     "metadata": {},
     "output_type": "execute_result"
    }
   ],
   "source": [
    "#how to create an identiy matrix\n",
    "#identiy matrix means diagnal elements are one\n",
    "#so we have eye function (eye means identical i)\n",
    "\n",
    "a9=np.eye(3,3)\n",
    "a9"
   ]
  },
  {
   "cell_type": "code",
   "execution_count": 52,
   "id": "bb3710b5",
   "metadata": {},
   "outputs": [
    {
     "data": {
      "text/plain": [
       "array([[1., 0., 0., 0., 0., 0., 0., 0., 0., 0.],\n",
       "       [0., 1., 0., 0., 0., 0., 0., 0., 0., 0.],\n",
       "       [0., 0., 1., 0., 0., 0., 0., 0., 0., 0.],\n",
       "       [0., 0., 0., 1., 0., 0., 0., 0., 0., 0.],\n",
       "       [0., 0., 0., 0., 1., 0., 0., 0., 0., 0.],\n",
       "       [0., 0., 0., 0., 0., 1., 0., 0., 0., 0.],\n",
       "       [0., 0., 0., 0., 0., 0., 1., 0., 0., 0.],\n",
       "       [0., 0., 0., 0., 0., 0., 0., 1., 0., 0.],\n",
       "       [0., 0., 0., 0., 0., 0., 0., 0., 1., 0.],\n",
       "       [0., 0., 0., 0., 0., 0., 0., 0., 0., 1.]])"
      ]
     },
     "execution_count": 52,
     "metadata": {},
     "output_type": "execute_result"
    }
   ],
   "source": [
    "a10=np.eye(10,10)\n",
    "a10"
   ]
  },
  {
   "cell_type": "code",
   "execution_count": 54,
   "id": "26fedbf2",
   "metadata": {},
   "outputs": [
    {
     "data": {
      "text/plain": [
       "array([[1, 0, 0, 0, 0],\n",
       "       [0, 3, 0, 0, 0],\n",
       "       [0, 0, 5, 0, 0],\n",
       "       [0, 0, 0, 6, 0],\n",
       "       [0, 0, 0, 0, 7]])"
      ]
     },
     "execution_count": 54,
     "metadata": {},
     "output_type": "execute_result"
    }
   ],
   "source": [
    "#similarly we have diagnoal function, \n",
    "#here we are passing list and it will put all the values in diagnal\n",
    "\n",
    "a11=np.diag([1,3,5,6,7])\n",
    "a11"
   ]
  },
  {
   "cell_type": "code",
   "execution_count": 55,
   "id": "1edbbcd0",
   "metadata": {},
   "outputs": [
    {
     "data": {
      "text/plain": [
       "array([[  1,   0,   0,   0,   0],\n",
       "       [  0,   2,   0,   0,   0],\n",
       "       [  0,   0,   3,   0,   0],\n",
       "       [  0,   0,   0,   3,   0],\n",
       "       [  0,   0,   0,   0, 455]])"
      ]
     },
     "execution_count": 55,
     "metadata": {},
     "output_type": "execute_result"
    }
   ],
   "source": [
    "#using diag function and using list as constant\n",
    "l33=[1,2,3,3,455]\n",
    "\n",
    "a12=np.diag(l33)\n",
    "a12"
   ]
  },
  {
   "cell_type": "code",
   "execution_count": 56,
   "id": "0c3622f4",
   "metadata": {},
   "outputs": [
    {
     "data": {
      "text/plain": [
       "array([  1,   2,   3,   3, 455])"
      ]
     },
     "execution_count": 56,
     "metadata": {},
     "output_type": "execute_result"
    }
   ],
   "source": [
    "#now for example we want to fetch only diagnal values form matrix\n",
    "#same diag function is helpful here, but we need to make sure pass the matrix\n",
    "\n",
    "a13=np.diag(a12)\n",
    "a13"
   ]
  },
  {
   "cell_type": "code",
   "execution_count": 57,
   "id": "4e8e168c",
   "metadata": {},
   "outputs": [
    {
     "data": {
      "text/plain": [
       "array([0.18614946, 0.63827279, 0.40352334, 0.22330108, 0.69083568])"
      ]
     },
     "execution_count": 57,
     "metadata": {},
     "output_type": "execute_result"
    }
   ],
   "source": [
    "#rand function to generate the random number\n",
    "#please makesure we need to call random module for this\n",
    "#in Numpy library we have random package and in random package we have rand function\n",
    "\n",
    "a14=np.random.rand(5)\n",
    "a14"
   ]
  },
  {
   "cell_type": "code",
   "execution_count": 58,
   "id": "55cbef4c",
   "metadata": {},
   "outputs": [
    {
     "data": {
      "text/plain": [
       "array([[0.61791565, 0.81402219, 0.41117206, 0.87876526],\n",
       "       [0.36491681, 0.00618797, 0.37810717, 0.37819357],\n",
       "       [0.96177198, 0.20473483, 0.92157555, 0.9207381 ],\n",
       "       [0.64062207, 0.05385356, 0.71754891, 0.34082316],\n",
       "       [0.53944071, 0.10703197, 0.05702623, 0.7146925 ]])"
      ]
     },
     "execution_count": 58,
     "metadata": {},
     "output_type": "execute_result"
    }
   ],
   "source": [
    "a15=np.random.rand(5,4)\n",
    "a15\n",
    "\n",
    "#here we have generated random matrix\n",
    "# 5,4\n",
    "# 5 rows and 4 columns"
   ]
  },
  {
   "cell_type": "code",
   "execution_count": 61,
   "id": "d05a081c",
   "metadata": {},
   "outputs": [
    {
     "data": {
      "text/plain": [
       "0.27533134952298854"
      ]
     },
     "execution_count": 61,
     "metadata": {},
     "output_type": "execute_result"
    }
   ],
   "source": [
    "#how to access partiular element\n",
    "#This will acheive via indexing and slicing\n",
    "\n",
    "a16=np.random.rand(20)\n",
    "a16\n",
    "#this generated 20 numbers\n",
    "# now i need 11 element(so It will start from 0 so that why we have taken 12 element)\n",
    "\n",
    "a16[12]"
   ]
  },
  {
   "cell_type": "code",
   "execution_count": 62,
   "id": "c9d58370",
   "metadata": {},
   "outputs": [
    {
     "data": {
      "text/plain": [
       "array([[0.51168317, 0.35964274, 0.47293515, 0.53216932],\n",
       "       [0.84649075, 0.89634938, 0.81421384, 0.06301967],\n",
       "       [0.00808464, 0.10085485, 0.71590022, 0.58568967],\n",
       "       [0.73453669, 0.62116201, 0.08625955, 0.82768124],\n",
       "       [0.4044013 , 0.58331144, 0.76063781, 0.60672939]])"
      ]
     },
     "execution_count": 62,
     "metadata": {},
     "output_type": "execute_result"
    }
   ],
   "source": [
    "a17=np.random.rand(5,4)\n",
    "a17"
   ]
  },
  {
   "cell_type": "code",
   "execution_count": 64,
   "id": "4a880006",
   "metadata": {},
   "outputs": [
    {
     "data": {
      "text/plain": [
       "array([[0.51168317, 0.35964274, 0.47293515, 0.53216932],\n",
       "       [0.84649075, 0.89634938, 0.81421384, 0.06301967]])"
      ]
     },
     "execution_count": 64,
     "metadata": {},
     "output_type": "execute_result"
    }
   ],
   "source": [
    "#for example now you need only first two rows\n",
    "#this will fetch first two rows but here nake sure we had used indexing\n",
    "\n",
    "a17[:2]"
   ]
  },
  {
   "cell_type": "code",
   "execution_count": 66,
   "id": "d184441d",
   "metadata": {},
   "outputs": [
    {
     "data": {
      "text/plain": [
       "array([[0.84649075, 0.89634938, 0.81421384, 0.06301967]])"
      ]
     },
     "execution_count": 66,
     "metadata": {},
     "output_type": "execute_result"
    }
   ],
   "source": [
    "#for example now you need only first two rows\n",
    "#this will fetch first two rows but here nake sure we had used indexing\n",
    "\n",
    "a17[:2][1:]"
   ]
  },
  {
   "cell_type": "code",
   "execution_count": null,
   "id": "825848b0",
   "metadata": {},
   "outputs": [],
   "source": []
  },
  {
   "cell_type": "code",
   "execution_count": null,
   "id": "8867cc1f",
   "metadata": {},
   "outputs": [],
   "source": []
  }
 ],
 "metadata": {
  "kernelspec": {
   "display_name": "Python 3 (ipykernel)",
   "language": "python",
   "name": "python3"
  },
  "language_info": {
   "codemirror_mode": {
    "name": "ipython",
    "version": 3
   },
   "file_extension": ".py",
   "mimetype": "text/x-python",
   "name": "python",
   "nbconvert_exporter": "python",
   "pygments_lexer": "ipython3",
   "version": "3.9.7"
  }
 },
 "nbformat": 4,
 "nbformat_minor": 5
}
