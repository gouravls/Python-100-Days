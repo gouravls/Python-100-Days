{
 "cells": [
  {
   "cell_type": "markdown",
   "id": "c0d3c684",
   "metadata": {},
   "source": [
    "# Sets are useful for ensuring unique values."
   ]
  },
  {
   "cell_type": "markdown",
   "id": "bff34243",
   "metadata": {},
   "source": [
    "set sort the data\n",
    "set remove duplicates automatically, we donot need to do manually.\n",
    "You cannot apply slicing ([:]) to a set in Python because there is no indexing , hence no index function as well"
   ]
  },
  {
   "cell_type": "code",
   "execution_count": null,
   "id": "45546e5e",
   "metadata": {},
   "outputs": [],
   "source": [
    "#In set we can apply diff function\n",
    "\n",
    "len function\n",
    "add function\n",
    "remove function\n",
    "discard function\n",
    "pop function- Remove the randum data but does not have any argument\n",
    "copy function:- copy or useful for create a backup\n",
    "clear function:- It is useful to clear the set datatype, it will create emppty set.  \n",
    "union function:- same as sql (append the data and remove the duplicate)\n",
    "intersection function:- Only give duplicate value \n",
    "difference function:- Only give the set_A values and remove the common values\n",
    "symmetric_difference :- It will remove common value and give rest all values"
   ]
  },
  {
   "cell_type": "markdown",
   "id": "65d3d01c",
   "metadata": {},
   "source": [
    "set() function we need to use to create a set\n",
    "set() function will take only one argument, if you will give more argument then it will throw an error\n",
    "#to view the item also \n"
   ]
  },
  {
   "cell_type": "code",
   "execution_count": 3,
   "id": "82032ca0",
   "metadata": {},
   "outputs": [
    {
     "data": {
      "text/plain": [
       "dict"
      ]
     },
     "execution_count": 3,
     "metadata": {},
     "output_type": "execute_result"
    }
   ],
   "source": [
    "#set and dict both define with the {}\n",
    "s={}\n",
    "type(s)"
   ]
  },
  {
   "cell_type": "code",
   "execution_count": 5,
   "id": "908b95db",
   "metadata": {},
   "outputs": [
    {
     "data": {
      "text/plain": [
       "set"
      ]
     },
     "execution_count": 5,
     "metadata": {},
     "output_type": "execute_result"
    }
   ],
   "source": [
    "s1=set()\n",
    "s1\n",
    "type(s1)"
   ]
  },
  {
   "cell_type": "code",
   "execution_count": null,
   "id": "4d8e052e",
   "metadata": {},
   "outputs": [],
   "source": [
    "#In below example I have added three list and output get in a tuple with set function"
   ]
  },
  {
   "cell_type": "code",
   "execution_count": 7,
   "id": "edf1ab33",
   "metadata": {},
   "outputs": [
    {
     "data": {
      "text/plain": [
       "{101, 102, 103, 104, 105, 106, 107, 108, 109, 110}"
      ]
     },
     "execution_count": 7,
     "metadata": {},
     "output_type": "execute_result"
    }
   ],
   "source": [
    "#Let's say you are working on a customer segmentation project where you need to find the unique customers \n",
    "#who have purchased a product from multiple sources (e.g., website, mobile app, and retail store).\n",
    "\n",
    "web_customers = [101, 102, 103, 104, 101, 105]\n",
    "app_customers = [102, 106, 107, 101, 108]\n",
    "store_customers = [103, 109, 101, 105, 110]\n",
    "\n",
    "unique_customer=set(web_customers+app_customers+store_customers)\n",
    "\n",
    "unique_customer\n"
   ]
  },
  {
   "cell_type": "markdown",
   "id": "66aff7af",
   "metadata": {},
   "source": [
    "Let's assume we are managing an e-commerce warehouse inventory \n",
    "where we track unique products. Sets help avoid duplicates and perform fast \n",
    "operations like finding missing products, categorizing items, and ensuring efficient stock updates."
   ]
  },
  {
   "cell_type": "code",
   "execution_count": 9,
   "id": "9bea5c12",
   "metadata": {},
   "outputs": [
    {
     "data": {
      "text/plain": [
       "{'Charger', 'Headphones', 'Keyboard', 'Laptop', 'Monitor', 'Mouse'}"
      ]
     },
     "execution_count": 9,
     "metadata": {},
     "output_type": "execute_result"
    }
   ],
   "source": [
    "inventory = {\"Laptop\", \"Mouse\", \"Keyboard\", \"Monitor\", \"Headphones\", \"Charger\"}\n",
    "#Use Case: Determine the number of unique products in stock.\n",
    "set(inventory)     "
   ]
  },
  {
   "cell_type": "code",
   "execution_count": 10,
   "id": "b73ba308",
   "metadata": {},
   "outputs": [
    {
     "data": {
      "text/plain": [
       "6"
      ]
     },
     "execution_count": 10,
     "metadata": {},
     "output_type": "execute_result"
    }
   ],
   "source": [
    "#count total number of items\n",
    "len(inventory)"
   ]
  },
  {
   "cell_type": "code",
   "execution_count": 12,
   "id": "7c944d36",
   "metadata": {},
   "outputs": [
    {
     "ename": "TypeError",
     "evalue": "'set' object is not subscriptable",
     "output_type": "error",
     "traceback": [
      "\u001b[1;31m---------------------------------------------------------------------------\u001b[0m",
      "\u001b[1;31mTypeError\u001b[0m                                 Traceback (most recent call last)",
      "\u001b[1;32mC:\\Users\\GOURAV~1\\AppData\\Local\\Temp/ipykernel_11996/3779275137.py\u001b[0m in \u001b[0;36m<module>\u001b[1;34m\u001b[0m\n\u001b[1;32m----> 1\u001b[1;33m \u001b[0minventory\u001b[0m\u001b[1;33m[\u001b[0m\u001b[1;36m1\u001b[0m\u001b[1;33m:\u001b[0m\u001b[1;33m]\u001b[0m\u001b[1;33m\u001b[0m\u001b[1;33m\u001b[0m\u001b[0m\n\u001b[0m",
      "\u001b[1;31mTypeError\u001b[0m: 'set' object is not subscriptable"
     ]
    }
   ],
   "source": [
    "inventory[1:]"
   ]
  },
  {
   "cell_type": "markdown",
   "id": "7dde215c",
   "metadata": {},
   "source": [
    " Adding a New Product\n",
    "📌 Use Case: Introduce a new product to inventory.\n",
    "💡 Business Scenario: A new supplier agreement allows us to start selling \"Webcam.\""
   ]
  },
  {
   "cell_type": "code",
   "execution_count": 16,
   "id": "b3f2bd4e",
   "metadata": {},
   "outputs": [
    {
     "data": {
      "text/plain": [
       "7"
      ]
     },
     "execution_count": 16,
     "metadata": {},
     "output_type": "execute_result"
    }
   ],
   "source": [
    "inventory = {\"Laptop\", \"Mouse\", \"Keyboard\", \"Monitor\", \"Headphones\", \"Charger\"}\n",
    "inventory.add(\"keyword1\")\n",
    "len(inventory)"
   ]
  },
  {
   "cell_type": "code",
   "execution_count": 17,
   "id": "82dcb236",
   "metadata": {},
   "outputs": [
    {
     "data": {
      "text/plain": [
       "{'Charger', 'Headphones', 'Keyboard', 'Laptop', 'Monitor', 'Mouse', 'keyword1'}"
      ]
     },
     "execution_count": 17,
     "metadata": {},
     "output_type": "execute_result"
    }
   ],
   "source": [
    "#to view the new set also, we need set function\n",
    "set(inventory)"
   ]
  },
  {
   "cell_type": "code",
   "execution_count": 25,
   "id": "6b89c562",
   "metadata": {},
   "outputs": [
    {
     "ename": "KeyError",
     "evalue": "'Keyboard'",
     "output_type": "error",
     "traceback": [
      "\u001b[1;31m---------------------------------------------------------------------------\u001b[0m",
      "\u001b[1;31mKeyError\u001b[0m                                  Traceback (most recent call last)",
      "\u001b[1;32mC:\\Users\\GOURAV~1\\AppData\\Local\\Temp/ipykernel_11996/2374871125.py\u001b[0m in \u001b[0;36m<module>\u001b[1;34m\u001b[0m\n\u001b[0;32m      1\u001b[0m \u001b[1;31m#how to remove and item from set\u001b[0m\u001b[1;33m\u001b[0m\u001b[1;33m\u001b[0m\u001b[0m\n\u001b[1;32m----> 2\u001b[1;33m \u001b[0minventory\u001b[0m\u001b[1;33m.\u001b[0m\u001b[0mremove\u001b[0m\u001b[1;33m(\u001b[0m\u001b[1;34m'Keyboard'\u001b[0m\u001b[1;33m)\u001b[0m\u001b[1;33m\u001b[0m\u001b[1;33m\u001b[0m\u001b[0m\n\u001b[0m\u001b[0;32m      3\u001b[0m \u001b[0mset\u001b[0m\u001b[1;33m(\u001b[0m\u001b[0minventory\u001b[0m\u001b[1;33m)\u001b[0m\u001b[1;33m\u001b[0m\u001b[1;33m\u001b[0m\u001b[0m\n",
      "\u001b[1;31mKeyError\u001b[0m: 'Keyboard'"
     ]
    }
   ],
   "source": [
    "#how to remove and item from set\n",
    "inventory.remove('Keyboard')\n",
    "set(inventory)"
   ]
  },
  {
   "cell_type": "code",
   "execution_count": 26,
   "id": "73ef0bf8",
   "metadata": {},
   "outputs": [
    {
     "data": {
      "text/plain": [
       "{'Charger', 'Headphones', 'Monitor', 'Mouse'}"
      ]
     },
     "execution_count": 26,
     "metadata": {},
     "output_type": "execute_result"
    }
   ],
   "source": [
    "inventory.discard('keyword1')\n",
    "set(inventory)"
   ]
  },
  {
   "cell_type": "code",
   "execution_count": null,
   "id": "79e4829f",
   "metadata": {},
   "outputs": [],
   "source": [
    "#for removing any item we can use remove and we can use discard both\n",
    "\n",
    "#remove: -It will throw an error if item is not found\n",
    "#discard :- It will not thow an error if item is not found"
   ]
  },
  {
   "cell_type": "code",
   "execution_count": 27,
   "id": "ac42c162",
   "metadata": {},
   "outputs": [
    {
     "data": {
      "text/plain": [
       "{'Charger', 'Headphones', 'Mouse'}"
      ]
     },
     "execution_count": 27,
     "metadata": {},
     "output_type": "execute_result"
    }
   ],
   "source": [
    "#pop also remove the data, but it is removing data for any random value\n",
    "inventory.pop()\n",
    "set(inventory)"
   ]
  },
  {
   "cell_type": "code",
   "execution_count": 28,
   "id": "3beca29e",
   "metadata": {},
   "outputs": [
    {
     "ename": "TypeError",
     "evalue": "set.pop() takes no arguments (1 given)",
     "output_type": "error",
     "traceback": [
      "\u001b[1;31m---------------------------------------------------------------------------\u001b[0m",
      "\u001b[1;31mTypeError\u001b[0m                                 Traceback (most recent call last)",
      "\u001b[1;32mC:\\Users\\GOURAV~1\\AppData\\Local\\Temp/ipykernel_11996/1299364790.py\u001b[0m in \u001b[0;36m<module>\u001b[1;34m\u001b[0m\n\u001b[0;32m      1\u001b[0m \u001b[1;31m#pop also remove the data, but it is removing data for any random value\u001b[0m\u001b[1;33m\u001b[0m\u001b[1;33m\u001b[0m\u001b[0m\n\u001b[1;32m----> 2\u001b[1;33m \u001b[0minventory\u001b[0m\u001b[1;33m.\u001b[0m\u001b[0mpop\u001b[0m\u001b[1;33m(\u001b[0m\u001b[1;36m1\u001b[0m\u001b[1;33m)\u001b[0m\u001b[1;33m\u001b[0m\u001b[1;33m\u001b[0m\u001b[0m\n\u001b[0m\u001b[0;32m      3\u001b[0m \u001b[0mset\u001b[0m\u001b[1;33m(\u001b[0m\u001b[0minventory\u001b[0m\u001b[1;33m)\u001b[0m\u001b[1;33m\u001b[0m\u001b[1;33m\u001b[0m\u001b[0m\n",
      "\u001b[1;31mTypeError\u001b[0m: set.pop() takes no arguments (1 given)"
     ]
    }
   ],
   "source": [
    "#pop also remove the data, but it is removing data for any random value\n",
    "inventory.pop(1)\n",
    "set(inventory)"
   ]
  },
  {
   "cell_type": "code",
   "execution_count": 29,
   "id": "9394486d",
   "metadata": {},
   "outputs": [
    {
     "data": {
      "text/plain": [
       "{'Charger', 'Headphones', 'Mouse'}"
      ]
     },
     "execution_count": 29,
     "metadata": {},
     "output_type": "execute_result"
    }
   ],
   "source": [
    "#copy function is used to save create a copy of any set\n",
    "\n",
    "backup_inventory=inventory.copy()\n",
    "backup_inventory\n"
   ]
  },
  {
   "cell_type": "code",
   "execution_count": 30,
   "id": "2666e084",
   "metadata": {},
   "outputs": [
    {
     "data": {
      "text/plain": [
       "{'Charger', 'Headphones', 'Mouse'}"
      ]
     },
     "execution_count": 30,
     "metadata": {},
     "output_type": "execute_result"
    }
   ],
   "source": [
    "\n",
    "backup_inventory1=inventory.copy()\n",
    "backup_inventory1\n"
   ]
  },
  {
   "cell_type": "code",
   "execution_count": 31,
   "id": "f1ef3051",
   "metadata": {},
   "outputs": [
    {
     "data": {
      "text/plain": [
       "set()"
      ]
     },
     "execution_count": 31,
     "metadata": {},
     "output_type": "execute_result"
    }
   ],
   "source": [
    "backup_inventory1.clear()\n",
    "backup_inventory1"
   ]
  },
  {
   "cell_type": "code",
   "execution_count": 34,
   "id": "1b3008c6",
   "metadata": {},
   "outputs": [
    {
     "data": {
      "text/plain": [
       "{'bed',\n",
       " 'chair',\n",
       " 'cooker',\n",
       " 'cyclinder',\n",
       " 'gas',\n",
       " 'office furniture',\n",
       " 'sofa',\n",
       " 'stool'}"
      ]
     },
     "execution_count": 34,
     "metadata": {},
     "output_type": "execute_result"
    }
   ],
   "source": [
    "inventory_furniture={\"chair\",\"stool\",\"office furniture\",\"bed\",\"sofa\"}\n",
    "inventory_kitchen={\"cooker\",\"gas\",\"cyclinder\"}\n",
    "\n",
    "final_inventory=inventory_furniture.union(inventory_kitchen)\n",
    "final_inventory"
   ]
  },
  {
   "cell_type": "code",
   "execution_count": 35,
   "id": "33c2e7c9",
   "metadata": {},
   "outputs": [
    {
     "data": {
      "text/plain": [
       "{'bed',\n",
       " 'chair',\n",
       " 'cooker',\n",
       " 'cyclinder',\n",
       " 'gas',\n",
       " 'office furniture',\n",
       " 'sofa',\n",
       " 'stool'}"
      ]
     },
     "execution_count": 35,
     "metadata": {},
     "output_type": "execute_result"
    }
   ],
   "source": [
    "#union will automatically delete the duplicate data\n",
    "#for example here we have 'bed' in two diffreent data set, its automatically remove the bed\n",
    "inventory_furniture={\"chair\",\"stool\",\"office furniture\",\"bed\",\"sofa\"}\n",
    "inventory_kitchen={\"cooker\",\"gas\",\"cyclinder\",\"bed\"}\n",
    "\n",
    "final_inventory1=inventory_furniture.union(inventory_kitchen)\n",
    "final_inventory1"
   ]
  },
  {
   "cell_type": "code",
   "execution_count": 36,
   "id": "4b9c5225",
   "metadata": {},
   "outputs": [
    {
     "data": {
      "text/plain": [
       "{'bed'}"
      ]
     },
     "execution_count": 36,
     "metadata": {},
     "output_type": "execute_result"
    }
   ],
   "source": [
    "inventory_furniture={\"chair\",\"stool\",\"office furniture\",\"bed\",\"sofa\"}\n",
    "inventory_kitchen={\"cooker\",\"gas\",\"cyclinder\",\"bed\"}\n",
    "\n",
    "final_inventory2=inventory_furniture.intersection(inventory_kitchen)\n",
    "final_inventory2"
   ]
  },
  {
   "cell_type": "code",
   "execution_count": 37,
   "id": "7bd9d50e",
   "metadata": {},
   "outputs": [
    {
     "data": {
      "text/plain": [
       "{'chair', 'office furniture', 'sofa', 'stool'}"
      ]
     },
     "execution_count": 37,
     "metadata": {},
     "output_type": "execute_result"
    }
   ],
   "source": [
    "inventory_furniture={\"chair\",\"stool\",\"office furniture\",\"bed\",\"sofa\"}\n",
    "inventory_kitchen={\"cooker\",\"gas\",\"cyclinder\",\"bed\"}\n",
    "\n",
    "final_inventory2=inventory_furniture.difference(inventory_kitchen)\n",
    "final_inventory2"
   ]
  },
  {
   "cell_type": "code",
   "execution_count": 38,
   "id": "8569a3ae",
   "metadata": {},
   "outputs": [
    {
     "data": {
      "text/plain": [
       "{'chair', 'cooker', 'cyclinder', 'gas', 'office furniture', 'sofa', 'stool'}"
      ]
     },
     "execution_count": 38,
     "metadata": {},
     "output_type": "execute_result"
    }
   ],
   "source": [
    "inventory_furniture={\"chair\",\"stool\",\"office furniture\",\"bed\",\"sofa\"}\n",
    "inventory_kitchen={\"cooker\",\"gas\",\"cyclinder\",\"bed\"}\n",
    "\n",
    "final_inventory2=inventory_furniture.symmetric_difference(inventory_kitchen)\n",
    "final_inventory2"
   ]
  },
  {
   "cell_type": "code",
   "execution_count": null,
   "id": "75ab8e76",
   "metadata": {},
   "outputs": [],
   "source": []
  }
 ],
 "metadata": {
  "kernelspec": {
   "display_name": "Python 3 (ipykernel)",
   "language": "python",
   "name": "python3"
  },
  "language_info": {
   "codemirror_mode": {
    "name": "ipython",
    "version": 3
   },
   "file_extension": ".py",
   "mimetype": "text/x-python",
   "name": "python",
   "nbconvert_exporter": "python",
   "pygments_lexer": "ipython3",
   "version": "3.9.7"
  }
 },
 "nbformat": 4,
 "nbformat_minor": 5
}
