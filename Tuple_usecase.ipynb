{
 "cells": [
  {
   "cell_type": "markdown",
   "id": "b263b4c2",
   "metadata": {},
   "source": [
    "# Tuples are useful when data should remain unchanged."
   ]
  },
  {
   "cell_type": "markdown",
   "id": "d09830ce",
   "metadata": {},
   "source": [
    "Few things are very limited in tuple\n",
    "like we can use limited things in tuple\n",
    "1:- count function\n",
    "2:- Index function\n",
    "3:-Slicing\n",
    "4:- length function"
   ]
  },
  {
   "cell_type": "markdown",
   "id": "0351cd6b",
   "metadata": {},
   "source": [
    "# Product Details\n",
    "#Q: How can an inventory system store unchangeable product details?\n",
    "#A: Use a tuple to store fixed product information."
   ]
  },
  {
   "cell_type": "markdown",
   "id": "a5a9a343",
   "metadata": {},
   "source": [
    "#COUNT FUNCTION WILL TELL how many values are there\n",
    "#index function will tell poistion of that\n",
    "\n",
    "tuple_name.count(\"value\")\n",
    "tuple_name.index(\"value\")"
   ]
  },
  {
   "cell_type": "code",
   "execution_count": 1,
   "id": "cfd2f472",
   "metadata": {},
   "outputs": [
    {
     "name": "stdout",
     "output_type": "stream",
     "text": [
      "('HP-1234', 'HP', 28000)\n"
     ]
    }
   ],
   "source": [
    "#for example we are storing information related to laptop laptop_id, laptop_comapany, laptop_price\n",
    "\n",
    "\n",
    "product_detail=('HP-1234','HP',28000)\n",
    "print(product_detail)"
   ]
  },
  {
   "cell_type": "code",
   "execution_count": 3,
   "id": "abeefcaa",
   "metadata": {},
   "outputs": [
    {
     "data": {
      "text/plain": [
       "tuple"
      ]
     },
     "execution_count": 3,
     "metadata": {},
     "output_type": "execute_result"
    }
   ],
   "source": [
    "type(product_detail)"
   ]
  },
  {
   "cell_type": "code",
   "execution_count": null,
   "id": "33d496d4",
   "metadata": {},
   "outputs": [],
   "source": [
    "product_detail"
   ]
  },
  {
   "cell_type": "code",
   "execution_count": 4,
   "id": "e56a490e",
   "metadata": {},
   "outputs": [
    {
     "data": {
      "text/plain": [
       "('HP', 28000)"
      ]
     },
     "execution_count": 4,
     "metadata": {},
     "output_type": "execute_result"
    }
   ],
   "source": [
    "#slicing is allowed in tuple for example we need information about laptop_comapany and laptop_price then we can use slicing\n",
    "product_detail[1:]"
   ]
  },
  {
   "cell_type": "code",
   "execution_count": 6,
   "id": "2cddc537",
   "metadata": {},
   "outputs": [
    {
     "data": {
      "text/plain": [
       "28000"
      ]
     },
     "execution_count": 6,
     "metadata": {},
     "output_type": "execute_result"
    }
   ],
   "source": [
    "#another example of slicing if we need only price.\n",
    "product_detail[-1]"
   ]
  },
  {
   "cell_type": "code",
   "execution_count": 8,
   "id": "40bb5564",
   "metadata": {},
   "outputs": [
    {
     "data": {
      "text/plain": [
       "3"
      ]
     },
     "execution_count": 8,
     "metadata": {},
     "output_type": "execute_result"
    }
   ],
   "source": [
    "#If we need the lenth of laptop pricing , means how many item in this tuple\n",
    "len(product_detail)"
   ]
  },
  {
   "cell_type": "code",
   "execution_count": 9,
   "id": "0d5ccbd5",
   "metadata": {},
   "outputs": [
    {
     "data": {
      "text/plain": [
       "6"
      ]
     },
     "execution_count": 9,
     "metadata": {},
     "output_type": "execute_result"
    }
   ],
   "source": [
    "customer_info=('AB-1234', 'NewBill', 'USA', 'Lead', 'CA',12345000)\n",
    "len(customer_info)"
   ]
  },
  {
   "cell_type": "code",
   "execution_count": 10,
   "id": "f044ce89",
   "metadata": {},
   "outputs": [
    {
     "ename": "NameError",
     "evalue": "name 'count' is not defined",
     "output_type": "error",
     "traceback": [
      "\u001b[1;31m---------------------------------------------------------------------------\u001b[0m",
      "\u001b[1;31mNameError\u001b[0m                                 Traceback (most recent call last)",
      "\u001b[1;32mC:\\Users\\GOURAV~1\\AppData\\Local\\Temp/ipykernel_7212/110402210.py\u001b[0m in \u001b[0;36m<module>\u001b[1;34m\u001b[0m\n\u001b[1;32m----> 1\u001b[1;33m \u001b[0mcount\u001b[0m\u001b[1;33m(\u001b[0m\u001b[0mcustomer_info\u001b[0m\u001b[1;33m)\u001b[0m\u001b[1;33m\u001b[0m\u001b[1;33m\u001b[0m\u001b[0m\n\u001b[0m",
      "\u001b[1;31mNameError\u001b[0m: name 'count' is not defined"
     ]
    }
   ],
   "source": [
    "#make sure about count function syntax\n",
    "column_name_or_tuple_name.count('value')"
   ]
  },
  {
   "cell_type": "code",
   "execution_count": 17,
   "id": "052e2e1b",
   "metadata": {},
   "outputs": [
    {
     "data": {
      "text/plain": [
       "1"
      ]
     },
     "execution_count": 17,
     "metadata": {},
     "output_type": "execute_result"
    }
   ],
   "source": [
    "customer_info.count(\"USA\")"
   ]
  },
  {
   "cell_type": "code",
   "execution_count": 16,
   "id": "68b2a966",
   "metadata": {},
   "outputs": [
    {
     "name": "stdout",
     "output_type": "stream",
     "text": [
      "1\n"
     ]
    }
   ],
   "source": [
    "print(customer_info.count(\"USA\"))"
   ]
  },
  {
   "cell_type": "code",
   "execution_count": 20,
   "id": "90c4fd71",
   "metadata": {},
   "outputs": [
    {
     "data": {
      "text/plain": [
       "2"
      ]
     },
     "execution_count": 20,
     "metadata": {},
     "output_type": "execute_result"
    }
   ],
   "source": [
    "customer_info.index(\"USA\")"
   ]
  },
  {
   "cell_type": "code",
   "execution_count": null,
   "id": "123a7c2b",
   "metadata": {},
   "outputs": [],
   "source": []
  },
  {
   "cell_type": "code",
   "execution_count": null,
   "id": "4ee6d818",
   "metadata": {},
   "outputs": [],
   "source": []
  }
 ],
 "metadata": {
  "kernelspec": {
   "display_name": "Python 3 (ipykernel)",
   "language": "python",
   "name": "python3"
  },
  "language_info": {
   "codemirror_mode": {
    "name": "ipython",
    "version": 3
   },
   "file_extension": ".py",
   "mimetype": "text/x-python",
   "name": "python",
   "nbconvert_exporter": "python",
   "pygments_lexer": "ipython3",
   "version": "3.9.7"
  }
 },
 "nbformat": 4,
 "nbformat_minor": 5
}
