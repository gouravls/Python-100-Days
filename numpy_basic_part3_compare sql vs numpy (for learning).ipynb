{
 "cells": [
  {
   "cell_type": "code",
   "execution_count": 1,
   "id": "21a8a1c4",
   "metadata": {},
   "outputs": [],
   "source": [
    "import numpy as np"
   ]
  },
  {
   "cell_type": "code",
   "execution_count": 2,
   "id": "1e3872ed",
   "metadata": {},
   "outputs": [
    {
     "data": {
      "text/plain": [
       "array([0.40893025, 0.57281619, 0.57881784, 0.24579898, 0.00878451])"
      ]
     },
     "execution_count": 2,
     "metadata": {},
     "output_type": "execute_result"
    }
   ],
   "source": [
    "#how to generate random number\n",
    "np.random.rand(5)"
   ]
  },
  {
   "cell_type": "code",
   "execution_count": 5,
   "id": "71102caa",
   "metadata": {},
   "outputs": [
    {
     "data": {
      "text/plain": [
       "array([-0.51545576, -0.02941869,  2.81320126,  1.0452847 ,  1.04180638])"
      ]
     },
     "execution_count": 5,
     "metadata": {},
     "output_type": "execute_result"
    }
   ],
   "source": [
    "#rand normal function\n",
    "\n",
    "ab=np.random.randn(5)\n",
    "ab"
   ]
  },
  {
   "cell_type": "code",
   "execution_count": 7,
   "id": "c71d7ce8",
   "metadata": {},
   "outputs": [
    {
     "data": {
      "text/plain": [
       "numpy.ndarray"
      ]
     },
     "execution_count": 7,
     "metadata": {},
     "output_type": "execute_result"
    }
   ],
   "source": [
    "type(ab)"
   ]
  },
  {
   "cell_type": "code",
   "execution_count": 8,
   "id": "b7b66d6c",
   "metadata": {},
   "outputs": [
    {
     "data": {
      "text/plain": [
       "dtype('float64')"
      ]
     },
     "execution_count": 8,
     "metadata": {},
     "output_type": "execute_result"
    }
   ],
   "source": [
    "ab.dtype"
   ]
  },
  {
   "cell_type": "code",
   "execution_count": 11,
   "id": "3f172d92",
   "metadata": {},
   "outputs": [
    {
     "data": {
      "text/plain": [
       "array([0, 1, 2, 3, 4])"
      ]
     },
     "execution_count": 11,
     "metadata": {},
     "output_type": "execute_result"
    }
   ],
   "source": [
    "#a range function for setting the range\n",
    "\n",
    "ab1=np.arange(5)\n",
    "ab1"
   ]
  },
  {
   "cell_type": "code",
   "execution_count": 12,
   "id": "4b1ce8ce",
   "metadata": {},
   "outputs": [
    {
     "data": {
      "text/plain": [
       "array([0., 1., 2., 3., 4.])"
      ]
     },
     "execution_count": 12,
     "metadata": {},
     "output_type": "execute_result"
    }
   ],
   "source": [
    "#here dtype is a type of format\n",
    "ab2=np.arange(5, dtype='float')\n",
    "ab2"
   ]
  },
  {
   "cell_type": "code",
   "execution_count": 15,
   "id": "d0bfc278",
   "metadata": {},
   "outputs": [
    {
     "data": {
      "text/plain": [
       "array(['ram', 'jai', 'shree'], dtype='<U5')"
      ]
     },
     "execution_count": 15,
     "metadata": {},
     "output_type": "execute_result"
    }
   ],
   "source": [
    "#if you want to pass string values in a array function, please make sure to pass values in list \n",
    "\n",
    "ab2=np.array(['ram',\"jai\",\"shree\"])\n",
    "ab2"
   ]
  },
  {
   "cell_type": "code",
   "execution_count": 16,
   "id": "4ac22a05",
   "metadata": {},
   "outputs": [
    {
     "data": {
      "text/plain": [
       "numpy.ndarray"
      ]
     },
     "execution_count": 16,
     "metadata": {},
     "output_type": "execute_result"
    }
   ],
   "source": [
    "type(ab2)"
   ]
  },
  {
   "cell_type": "code",
   "execution_count": 18,
   "id": "9d2b073d",
   "metadata": {},
   "outputs": [
    {
     "data": {
      "text/plain": [
       "dtype('<U5')"
      ]
     },
     "execution_count": 18,
     "metadata": {},
     "output_type": "execute_result"
    }
   ],
   "source": [
    "ab2.dtype"
   ]
  },
  {
   "cell_type": "code",
   "execution_count": 19,
   "id": "f67c65cf",
   "metadata": {},
   "outputs": [
    {
     "data": {
      "text/plain": [
       "array([ True, False])"
      ]
     },
     "execution_count": 19,
     "metadata": {},
     "output_type": "execute_result"
    }
   ],
   "source": [
    "#how to pass boolean values , same we need to pass in list, reason is simple array is a function \n",
    "#and it will take only one argument , so we want to pass mutiple values then \n",
    "\n",
    "ab3=np.array([True,False])\n",
    "ab3"
   ]
  },
  {
   "cell_type": "code",
   "execution_count": 20,
   "id": "d6c1042e",
   "metadata": {},
   "outputs": [
    {
     "data": {
      "text/plain": [
       "numpy.ndarray"
      ]
     },
     "execution_count": 20,
     "metadata": {},
     "output_type": "execute_result"
    }
   ],
   "source": [
    "type(ab3)"
   ]
  },
  {
   "cell_type": "code",
   "execution_count": 22,
   "id": "e1259489",
   "metadata": {},
   "outputs": [
    {
     "data": {
      "text/plain": [
       "dtype('bool')"
      ]
     },
     "execution_count": 22,
     "metadata": {},
     "output_type": "execute_result"
    }
   ],
   "source": [
    "ab3.dtype"
   ]
  },
  {
   "cell_type": "markdown",
   "id": "04a7d441",
   "metadata": {},
   "source": [
    "# how to access elements in python\n",
    "\n",
    "Two ways via slicing and Via indexing"
   ]
  },
  {
   "cell_type": "code",
   "execution_count": 23,
   "id": "c3e30b97",
   "metadata": {},
   "outputs": [
    {
     "data": {
      "text/plain": [
       "array([0, 1, 2, 3, 4, 5, 6, 7, 8, 9])"
      ]
     },
     "execution_count": 23,
     "metadata": {},
     "output_type": "execute_result"
    }
   ],
   "source": [
    "ab4=np.arange(10)\n",
    "ab4"
   ]
  },
  {
   "cell_type": "code",
   "execution_count": null,
   "id": "854ce782",
   "metadata": {},
   "outputs": [],
   "source": [
    "#suppose you want to access the 8 element from this array"
   ]
  },
  {
   "cell_type": "code",
   "execution_count": 25,
   "id": "2dc19274",
   "metadata": {},
   "outputs": [
    {
     "data": {
      "text/plain": [
       "7"
      ]
     },
     "execution_count": 25,
     "metadata": {},
     "output_type": "execute_result"
    }
   ],
   "source": [
    "#to access 8 element we need to mention 7 beacuse n-1 logic(start with zero)\n",
    "ab4[7]"
   ]
  },
  {
   "cell_type": "code",
   "execution_count": 28,
   "id": "4ec42408",
   "metadata": {},
   "outputs": [
    {
     "data": {
      "text/plain": [
       "array([[1, 0, 0, 0],\n",
       "       [0, 2, 0, 0],\n",
       "       [0, 0, 3, 0],\n",
       "       [0, 0, 0, 4]])"
      ]
     },
     "execution_count": 28,
     "metadata": {},
     "output_type": "execute_result"
    }
   ],
   "source": [
    "#suppose we have diagonal matrix\n",
    "\n",
    "ab5=np.diag([1,2,3,4])\n",
    "ab5"
   ]
  },
  {
   "cell_type": "code",
   "execution_count": 35,
   "id": "1cbce083",
   "metadata": {},
   "outputs": [
    {
     "data": {
      "text/plain": [
       "3"
      ]
     },
     "execution_count": 35,
     "metadata": {},
     "output_type": "execute_result"
    }
   ],
   "source": [
    "#now we want to access the elements of this matrix then we use list here, so make sure ab5 is not a function \n",
    "#so we are not passing any bracket () only square bracket\n",
    "ab5[2,2]"
   ]
  },
  {
   "cell_type": "code",
   "execution_count": 36,
   "id": "bb080eb5",
   "metadata": {},
   "outputs": [
    {
     "data": {
      "text/plain": [
       "array([[ 1,  0,  0,  0],\n",
       "       [ 0, 55,  0,  0],\n",
       "       [ 0,  0,  3,  0],\n",
       "       [ 0,  0,  0,  4]])"
      ]
     },
     "execution_count": 36,
     "metadata": {},
     "output_type": "execute_result"
    }
   ],
   "source": [
    "#if you want to update any value then also it is possible\n",
    "\n",
    "ab5[1,1]=55\n",
    "ab5"
   ]
  },
  {
   "cell_type": "code",
   "execution_count": 37,
   "id": "503b7c74",
   "metadata": {},
   "outputs": [
    {
     "data": {
      "text/plain": [
       "array([[  1,   0,   0,   0],\n",
       "       [  0,  55,   0, 551],\n",
       "       [  0,   0,   3,   0],\n",
       "       [  0,   0,   0,   4]])"
      ]
     },
     "execution_count": 37,
     "metadata": {},
     "output_type": "execute_result"
    }
   ],
   "source": [
    "ab5[1,3]=551\n",
    "ab5"
   ]
  },
  {
   "cell_type": "code",
   "execution_count": 38,
   "id": "a774edbe",
   "metadata": {},
   "outputs": [
    {
     "data": {
      "text/plain": [
       "0"
      ]
     },
     "execution_count": 38,
     "metadata": {},
     "output_type": "execute_result"
    }
   ],
   "source": [
    "#Means if you are form sql background then how you slecet particular columns like this\n",
    "#select col1, col2 from table1\n",
    "#here in python we can access via indexing and slicing \n",
    "#via indexing\n",
    "\n",
    "ab5[3,1]"
   ]
  },
  {
   "cell_type": "code",
   "execution_count": 39,
   "id": "fc0611cd",
   "metadata": {},
   "outputs": [
    {
     "data": {
      "text/plain": [
       "array([[   1,    0,    0,    0],\n",
       "       [   0,   55,    0,  551],\n",
       "       [   0,    0,    3,    0],\n",
       "       [9876,    0,    0,    4]])"
      ]
     },
     "execution_count": 39,
     "metadata": {},
     "output_type": "execute_result"
    }
   ],
   "source": [
    "#similary if you are using update statment in sql like update table1 set col1=5 where col1=abc\n",
    "#here update also we can do via indexing and slicing (only use the assignemnet opeartor)\n",
    "\n",
    "ab5[3,0]=9876\n",
    "ab5\n"
   ]
  },
  {
   "cell_type": "code",
   "execution_count": 40,
   "id": "dc32993b",
   "metadata": {},
   "outputs": [
    {
     "data": {
      "text/plain": [
       "array([ 0,  1,  2,  3,  4,  5,  6,  7,  8,  9, 10, 11, 12, 13, 14, 15, 16,\n",
       "       17, 18, 19])"
      ]
     },
     "execution_count": 40,
     "metadata": {},
     "output_type": "execute_result"
    }
   ],
   "source": [
    "#for example if you want to you want to access from a matrix\n",
    "\n",
    "ab6=np.arange(20)\n",
    "ab6"
   ]
  },
  {
   "cell_type": "code",
   "execution_count": 41,
   "id": "674974a5",
   "metadata": {},
   "outputs": [
    {
     "data": {
      "text/plain": [
       "array([5])"
      ]
     },
     "execution_count": 41,
     "metadata": {},
     "output_type": "execute_result"
    }
   ],
   "source": [
    "#now you want to acees particular columns for exzmple col5,col6 (select col5,col6 from table1)\n",
    "\n",
    "#via slicing\n",
    "\n",
    "ab6[5:6]"
   ]
  },
  {
   "cell_type": "code",
   "execution_count": 48,
   "id": "69eae14e",
   "metadata": {},
   "outputs": [
    {
     "data": {
      "text/plain": [
       "array([5, 7, 9])"
      ]
     },
     "execution_count": 48,
     "metadata": {},
     "output_type": "execute_result"
    }
   ],
   "source": [
    "#we can use step thing also in indeixng\n",
    "\n",
    "ab7=ab6[5:10:2]\n",
    "ab7"
   ]
  },
  {
   "cell_type": "code",
   "execution_count": null,
   "id": "6892e134",
   "metadata": {},
   "outputs": [],
   "source": []
  }
 ],
 "metadata": {
  "kernelspec": {
   "display_name": "Python 3 (ipykernel)",
   "language": "python",
   "name": "python3"
  },
  "language_info": {
   "codemirror_mode": {
    "name": "ipython",
    "version": 3
   },
   "file_extension": ".py",
   "mimetype": "text/x-python",
   "name": "python",
   "nbconvert_exporter": "python",
   "pygments_lexer": "ipython3",
   "version": "3.9.7"
  }
 },
 "nbformat": 4,
 "nbformat_minor": 5
}
